{
 "cells": [
  {
   "cell_type": "code",
   "execution_count": 1,
   "id": "2685783b-d09e-4363-8031-3860fb7c4f5b",
   "metadata": {},
   "outputs": [],
   "source": [
    "from pathlib import Path\n",
    "from course_ocr_t1.data import MidvPackage\n",
    "from tqdm import tqdm\n",
    "from matplotlib import pyplot as plt\n",
    "import numpy as np\n",
    "from tqdm.notebook import tqdm\n",
    "import os\n",
    "import wandb\n",
    "import cv2"
   ]
  },
  {
   "cell_type": "code",
   "execution_count": 2,
   "id": "9e291e6a-7d07-4bd5-9e13-b35e4eca5b6c",
   "metadata": {},
   "outputs": [],
   "source": [
    "DATASET_PATH = Path() / '..' / '..' / '..'/ '..' / 'DATA' / 'asaginbaev' / 'midv500_compressed'\n",
    "assert DATASET_PATH.exists(), DATASET_PATH.absolute()"
   ]
  },
  {
   "cell_type": "code",
   "execution_count": 3,
   "id": "94c3336d-e609-47fa-8b64-43bcb8d5092f",
   "metadata": {},
   "outputs": [
    {
     "data": {
      "text/plain": [
       "(50, course_ocr_t1.data.MidvPackage)"
      ]
     },
     "execution_count": 3,
     "metadata": {},
     "output_type": "execute_result"
    }
   ],
   "source": [
    "# Собираем список пакетов (MidvPackage) \n",
    "data_packs = MidvPackage.read_midv500_dataset(DATASET_PATH)\n",
    "len(data_packs), type(data_packs[0])"
   ]
  },
  {
   "cell_type": "code",
   "execution_count": 20,
   "id": "820a2722",
   "metadata": {},
   "outputs": [],
   "source": [
    "from torch.utils.data import Dataset, DataLoader\n",
    "import torch\n",
    "import torch.nn as nn\n",
    "import torch.nn.functional as F\n",
    "import torchvision"
   ]
  },
  {
   "cell_type": "code",
   "execution_count": 21,
   "id": "bb46429d",
   "metadata": {},
   "outputs": [],
   "source": [
    "class DocDataset(Dataset):\n",
    "    def __init__(self, datapacks, is_test=False, transform=None):\n",
    "        self.datapacks = datapacks\n",
    "        self.transform = transform\n",
    "        self.data_indexes = []\n",
    "        self.random_affine = torchvision.transforms.RandomAffine(90)\n",
    "        self.color_jitter = torchvision.transforms.ColorJitter(2, 2)\n",
    "        self.is_test = is_test\n",
    "        \n",
    "        for i in range(len(datapacks)):\n",
    "            for j in range(len(datapacks[i])):\n",
    "                if datapacks[i][j].is_test_split() == is_test:\n",
    "                    self.data_indexes.append((i, j))\n",
    "\n",
    "    def __len__(self):\n",
    "        return len(self.data_indexes)\n",
    "\n",
    "    def __getitem__(self, idx):\n",
    "        \n",
    "        i, j = self.data_indexes[idx]\n",
    "        image = torch.FloatTensor(np.array(self.datapacks[i][j].image.convert('RGB'))) / 255\n",
    "        mask = np.zeros(np.array(self.datapacks[i][j].image).shape[:2])\n",
    "        mask = torch.LongTensor(cv2.fillConvexPoly(mask, np.array(self.datapacks[i][j].gt_data['quad']), (1, )))\n",
    "        image = image.permute([2, 0, 1])\n",
    "        return image, mask.squeeze(0)"
   ]
  },
  {
   "cell_type": "code",
   "execution_count": 22,
   "id": "f43ea73f",
   "metadata": {},
   "outputs": [],
   "source": [
    "class DoubleConv(nn.Module):\n",
    "    \"\"\"(convolution => [BN] => ReLU) * 2\"\"\"\n",
    "\n",
    "    def __init__(self, in_channels, out_channels, mid_channels=None):\n",
    "        super().__init__()\n",
    "        if not mid_channels:\n",
    "            mid_channels = out_channels\n",
    "        self.double_conv = nn.Sequential(\n",
    "            nn.Conv2d(in_channels, mid_channels, kernel_size=3, padding=1, bias=False),\n",
    "            nn.BatchNorm2d(mid_channels),\n",
    "            nn.ReLU(inplace=True),\n",
    "            nn.Conv2d(mid_channels, out_channels, kernel_size=3, padding=1, bias=False),\n",
    "            nn.BatchNorm2d(out_channels),\n",
    "            nn.ReLU(inplace=True)\n",
    "        )\n",
    "\n",
    "    def forward(self, x):\n",
    "        return self.double_conv(x)\n",
    "\n",
    "\n",
    "class Down(nn.Module):\n",
    "    \"\"\"Downscaling with maxpool then double conv\"\"\"\n",
    "\n",
    "    def __init__(self, in_channels, out_channels):\n",
    "        super().__init__()\n",
    "        self.maxpool_conv = nn.Sequential(\n",
    "            nn.MaxPool2d(2),\n",
    "            DoubleConv(in_channels, out_channels)\n",
    "        )\n",
    "\n",
    "    def forward(self, x):\n",
    "        return self.maxpool_conv(x)\n",
    "\n",
    "\n",
    "class Up(nn.Module):\n",
    "    \"\"\"Upscaling then double conv\"\"\"\n",
    "\n",
    "    def __init__(self, in_channels, out_channels, bilinear=True):\n",
    "        super().__init__()\n",
    "\n",
    "        # if bilinear, use the normal convolutions to reduce the number of channels\n",
    "        if bilinear:\n",
    "            self.up = nn.Upsample(scale_factor=2, mode='bilinear', align_corners=True)\n",
    "            self.conv = DoubleConv(in_channels, out_channels, in_channels // 2)\n",
    "        else:\n",
    "            self.up = nn.ConvTranspose2d(in_channels, in_channels // 2, kernel_size=2, stride=2)\n",
    "            self.conv = DoubleConv(in_channels, out_channels)\n",
    "\n",
    "    def forward(self, x1, x2):\n",
    "        x1 = self.up(x1)\n",
    "        # input is CHW\n",
    "        diffY = x2.size()[2] - x1.size()[2]\n",
    "        diffX = x2.size()[3] - x1.size()[3]\n",
    "\n",
    "        x1 = F.pad(x1, [diffX // 2, diffX - diffX // 2,\n",
    "                        diffY // 2, diffY - diffY // 2])\n",
    "        # if you have padding issues, see\n",
    "        # https://github.com/HaiyongJiang/U-Net-Pytorch-Unstructured-Buggy/commit/0e854509c2cea854e247a9c615f175f76fbb2e3a\n",
    "        # https://github.com/xiaopeng-liao/Pytorch-UNet/commit/8ebac70e633bac59fc22bb5195e513d5832fb3bd\n",
    "        x = torch.cat([x2, x1], dim=1)\n",
    "        return self.conv(x)\n",
    "\n",
    "\n",
    "class OutConv(nn.Module):\n",
    "    def __init__(self, in_channels, out_channels):\n",
    "        super(OutConv, self).__init__()\n",
    "        self.conv = nn.Conv2d(in_channels, out_channels, kernel_size=1)\n",
    "\n",
    "    def forward(self, x):\n",
    "        return self.conv(x)"
   ]
  },
  {
   "cell_type": "code",
   "execution_count": 23,
   "id": "1200be62",
   "metadata": {},
   "outputs": [],
   "source": [
    "class UNet(nn.Module):\n",
    "    def __init__(self, n_channels, n_classes, bilinear=False):\n",
    "        super(UNet, self).__init__()\n",
    "        self.n_channels = n_channels\n",
    "        self.n_classes = n_classes\n",
    "        self.bilinear = bilinear\n",
    "\n",
    "        self.inc = (DoubleConv(n_channels, 64))\n",
    "        self.down1 = (Down(64, 128))\n",
    "        self.down2 = (Down(128, 256))\n",
    "        self.down3 = (Down(256, 512))\n",
    "        factor = 2 if bilinear else 1\n",
    "        self.down4 = (Down(512, 1024 // factor))\n",
    "        self.up1 = (Up(1024, 512 // factor, bilinear))\n",
    "        self.up2 = (Up(512, 256 // factor, bilinear))\n",
    "        self.up3 = (Up(256, 128 // factor, bilinear))\n",
    "        self.up4 = (Up(128, 64, bilinear))\n",
    "        self.outc = (OutConv(64, n_classes))\n",
    "\n",
    "    def forward(self, x):\n",
    "        x1 = self.inc(x)\n",
    "        x2 = self.down1(x1)\n",
    "        x3 = self.down2(x2)\n",
    "        x4 = self.down3(x3)\n",
    "        x5 = self.down4(x4)\n",
    "        x = self.up1(x5, x4)\n",
    "        x = self.up2(x, x3)\n",
    "        x = self.up3(x, x2)\n",
    "        x = self.up4(x, x1)\n",
    "        logits = self.outc(x)\n",
    "        return logits\n",
    "\n",
    "    def use_checkpointing(self):\n",
    "        self.inc = torch.utils.checkpoint(self.inc)\n",
    "        self.down1 = torch.utils.checkpoint(self.down1)\n",
    "        self.down2 = torch.utils.checkpoint(self.down2)\n",
    "        self.down3 = torch.utils.checkpoint(self.down3)\n",
    "        self.down4 = torch.utils.checkpoint(self.down4)\n",
    "        self.up1 = torch.utils.checkpoint(self.up1)\n",
    "        self.up2 = torch.utils.checkpoint(self.up2)\n",
    "        self.up3 = torch.utils.checkpoint(self.up3)\n",
    "        self.up4 = torch.utils.checkpoint(self.up4)\n",
    "        self.outc = torch.utils.checkpoint(self.outc)"
   ]
  },
  {
   "cell_type": "code",
   "execution_count": 24,
   "id": "ff81f8a5",
   "metadata": {},
   "outputs": [],
   "source": [
    "train_set = DocDataset(data_packs, is_test=False)\n",
    "val_set = DocDataset(data_packs, is_test=True)"
   ]
  },
  {
   "cell_type": "code",
   "execution_count": 25,
   "id": "7ddc9a5b",
   "metadata": {},
   "outputs": [],
   "source": [
    "train_loader = DataLoader(train_set, batch_size=4, shuffle=True, num_workers=4)\n",
    "val_loader = DataLoader(val_set, batch_size=4, shuffle=False, drop_last=True, num_workers=4)"
   ]
  },
  {
   "cell_type": "code",
   "execution_count": 26,
   "id": "b6ddca94",
   "metadata": {},
   "outputs": [],
   "source": [
    "def dice_coeff(input, target, reduce_batch_first = False, epsilon = 1e-6):\n",
    "    assert input.size() == target.size()\n",
    "    assert input.dim() == 3 or not reduce_batch_first\n",
    "\n",
    "    sum_dim = (-1, -2) if input.dim() == 2 or not reduce_batch_first else (-1, -2, -3)\n",
    "\n",
    "    inter = 2 * (input * target).sum(dim=sum_dim)\n",
    "    sets_sum = input.sum(dim=sum_dim) + target.sum(dim=sum_dim)\n",
    "    sets_sum = torch.where(sets_sum == 0, inter, sets_sum)\n",
    "\n",
    "    dice = (inter + epsilon) / (sets_sum + epsilon)\n",
    "    return dice.mean()"
   ]
  },
  {
   "cell_type": "code",
   "execution_count": 27,
   "id": "68e1fd95",
   "metadata": {},
   "outputs": [],
   "source": [
    "def dice_loss(input, target):\n",
    "    return 1 - dice_coeff(input, target, reduce_batch_first=True)"
   ]
  },
  {
   "cell_type": "code",
   "execution_count": 28,
   "id": "0cda35c7",
   "metadata": {},
   "outputs": [
    {
     "data": {
      "text/plain": [
       "device(type='cuda')"
      ]
     },
     "execution_count": 28,
     "metadata": {},
     "output_type": "execute_result"
    }
   ],
   "source": [
    "os.environ[\"CUDA_DEVICE_ORDER\"]=\"PCI_BUS_ID\"\n",
    "os.environ[\"CUDA_VISIBLE_DEVICES\"]=\"3\"\n",
    "device = torch.device('cuda' if torch.cuda.is_available() else 'cpu')\n",
    "device"
   ]
  },
  {
   "cell_type": "code",
   "execution_count": 20,
   "id": "62b8a499",
   "metadata": {},
   "outputs": [
    {
     "name": "stdout",
     "output_type": "stream",
     "text": [
      "Fri Mar 10 23:42:53 2023       \n",
      "+-----------------------------------------------------------------------------+\n",
      "| NVIDIA-SMI 470.161.03   Driver Version: 470.161.03   CUDA Version: 11.4     |\n",
      "|-------------------------------+----------------------+----------------------+\n",
      "| GPU  Name        Persistence-M| Bus-Id        Disp.A | Volatile Uncorr. ECC |\n",
      "| Fan  Temp  Perf  Pwr:Usage/Cap|         Memory-Usage | GPU-Util  Compute M. |\n",
      "|                               |                      |               MIG M. |\n",
      "|===============================+======================+======================|\n",
      "|   0  NVIDIA TITAN RTX    Off  | 00000000:18:00.0 Off |                  N/A |\n",
      "| 41%   47C    P2    80W / 280W |   4789MiB / 24220MiB |     34%      Default |\n",
      "|                               |                      |                  N/A |\n",
      "+-------------------------------+----------------------+----------------------+\n",
      "|   1  NVIDIA TITAN V      Off  | 00000000:3B:00.0 Off |                  N/A |\n",
      "| 28%   30C    P8    25W / 250W |  10260MiB / 12066MiB |      0%      Default |\n",
      "|                               |                      |                  N/A |\n",
      "+-------------------------------+----------------------+----------------------+\n",
      "|   2  NVIDIA TITAN V      Off  | 00000000:86:00.0 Off |                  N/A |\n",
      "| 28%   30C    P8    25W / 250W |    312MiB / 12066MiB |      0%      Default |\n",
      "|                               |                      |                  N/A |\n",
      "+-------------------------------+----------------------+----------------------+\n",
      "|   3  NVIDIA TITAN RTX    Off  | 00000000:AF:00.0 Off |                  N/A |\n",
      "| 67%   75C    P2    78W / 280W |   5735MiB / 24220MiB |      0%      Default |\n",
      "|                               |                      |                  N/A |\n",
      "+-------------------------------+----------------------+----------------------+\n",
      "                                                                               \n",
      "+-----------------------------------------------------------------------------+\n",
      "| Processes:                                                                  |\n",
      "|  GPU   GI   CI        PID   Type   Process name                  GPU Memory |\n",
      "|        ID   ID                                                   Usage      |\n",
      "|=============================================================================|\n",
      "|    0   N/A  N/A      2183      G   /usr/lib/xorg/Xorg                  4MiB |\n",
      "|    0   N/A  N/A   2520762      C   python                           4781MiB |\n",
      "|    1   N/A  N/A      2183      G   /usr/lib/xorg/Xorg                  4MiB |\n",
      "|    1   N/A  N/A   2181441      C   ...a3/envs/layout/bin/python    10251MiB |\n",
      "|    2   N/A  N/A      2183      G   /usr/lib/xorg/Xorg                  4MiB |\n",
      "|    2   N/A  N/A   2181441      C   ...a3/envs/layout/bin/python      303MiB |\n",
      "|    3   N/A  N/A      2183      G   /usr/lib/xorg/Xorg                  4MiB |\n",
      "|    3   N/A  N/A   2616265      C   ...a3/envs/layout/bin/python     5727MiB |\n",
      "+-----------------------------------------------------------------------------+\n"
     ]
    }
   ],
   "source": [
    "!nvidia-smi"
   ]
  },
  {
   "cell_type": "code",
   "execution_count": 13,
   "id": "4e366f94",
   "metadata": {
    "scrolled": true
   },
   "outputs": [
    {
     "name": "stderr",
     "output_type": "stream",
     "text": [
      "\u001b[34m\u001b[1mwandb\u001b[0m: Currently logged in as: \u001b[33mazatiusssss\u001b[0m (use `wandb login --relogin` to force relogin)\n"
     ]
    },
    {
     "data": {
      "text/html": [
       "wandb version 0.13.11 is available!  To upgrade, please run:\n",
       " $ pip install wandb --upgrade"
      ],
      "text/plain": [
       "<IPython.core.display.HTML object>"
      ]
     },
     "metadata": {},
     "output_type": "display_data"
    },
    {
     "data": {
      "text/html": [
       "Tracking run with wandb version 0.12.13"
      ],
      "text/plain": [
       "<IPython.core.display.HTML object>"
      ]
     },
     "metadata": {},
     "output_type": "display_data"
    },
    {
     "data": {
      "text/html": [
       "Run data is saved locally in <code>/home/asaginbaev/course_ocr/task1/wandb/run-20230310_235138-12yvj8f7</code>"
      ],
      "text/plain": [
       "<IPython.core.display.HTML object>"
      ]
     },
     "metadata": {},
     "output_type": "display_data"
    },
    {
     "data": {
      "text/html": [
       "Syncing run <strong><a href=\"https://wandb.ai/azatiusssss/abbyy_ocr/runs/12yvj8f7\" target=\"_blank\">bright-dragon-35</a></strong> to <a href=\"https://wandb.ai/azatiusssss/abbyy_ocr\" target=\"_blank\">Weights & Biases</a> (<a href=\"https://wandb.me/run\" target=\"_blank\">docs</a>)<br/>"
      ],
      "text/plain": [
       "<IPython.core.display.HTML object>"
      ]
     },
     "metadata": {},
     "output_type": "display_data"
    }
   ],
   "source": [
    "logger = wandb.init(project='abbyy_ocr')"
   ]
  },
  {
   "cell_type": "code",
   "execution_count": 14,
   "id": "ea8b6f70",
   "metadata": {},
   "outputs": [],
   "source": [
    "criterion = nn.BCEWithLogitsLoss()"
   ]
  },
  {
   "cell_type": "code",
   "execution_count": 29,
   "id": "1f07ee5a",
   "metadata": {},
   "outputs": [],
   "source": [
    "model = UNet(3, 1)"
   ]
  },
  {
   "cell_type": "code",
   "execution_count": 31,
   "id": "5c2d45fc",
   "metadata": {},
   "outputs": [],
   "source": [
    "model.to(device);"
   ]
  },
  {
   "cell_type": "code",
   "execution_count": 18,
   "id": "3db25afd",
   "metadata": {},
   "outputs": [],
   "source": [
    "optimizer = torch.optim.RMSprop(model.parameters(), lr=1e-3, foreach=True)"
   ]
  },
  {
   "cell_type": "code",
   "execution_count": 19,
   "id": "9722be55",
   "metadata": {},
   "outputs": [],
   "source": [
    "scheduler = torch.optim.lr_scheduler.ReduceLROnPlateau(optimizer, 'max', patience=5)"
   ]
  },
  {
   "cell_type": "code",
   "execution_count": null,
   "id": "fb1c1b8b",
   "metadata": {},
   "outputs": [],
   "source": [
    "global_step = 0\n",
    "for epoch in tqdm(range(30)):\n",
    "    for images, masks in tqdm(train_loader):\n",
    "        images = images.to(device=device, dtype=torch.float32, memory_format=torch.channels_last)\n",
    "        masks = masks.to(device=device, dtype=torch.long)\n",
    "        masks_pred = model(images)\n",
    "        loss = criterion(masks_pred.squeeze(1), masks.float())\n",
    "        loss += dice_loss(F.sigmoid(masks_pred.squeeze(1)), masks.float())\n",
    "        loss.backward()\n",
    "        optimizer.step()\n",
    "        optimizer.zero_grad(set_to_none=True)\n",
    "        logger.log({\n",
    "                    'train loss': loss.item(),\n",
    "                    'step': global_step,\n",
    "                    'epoch': epoch\n",
    "                })\n",
    "        global_step += 1\n",
    "    for images, masks in tqdm(val_loader):\n",
    "        images = images.to(device=device, dtype=torch.float32, memory_format=torch.channels_last)\n",
    "        masks = masks.to(device=device, dtype=torch.long)\n",
    "        with torch.no_grad():\n",
    "            masks_pred = model(images)\n",
    "        loss = criterion(masks_pred.squeeze(1), masks.float())\n",
    "        loss += dice_loss(F.sigmoid(masks_pred.squeeze(1)), masks.float())\n",
    "        logger.log({\n",
    "                    'val loss': loss.item(),\n",
    "                    'step': global_step,\n",
    "                    'epoch': epoch\n",
    "                })\n",
    "        global_step += 1\n",
    "    if epoch % 5 == 0:\n",
    "        torch.save(model.state_dict(), f'checkpoint_epoch_{epoch}.pth')"
   ]
  },
  {
   "cell_type": "code",
   "execution_count": null,
   "id": "0942e615",
   "metadata": {},
   "outputs": [],
   "source": [
    "wandb.finish()"
   ]
  },
  {
   "cell_type": "code",
   "execution_count": 22,
   "id": "c6b27036",
   "metadata": {},
   "outputs": [
    {
     "data": {
      "text/plain": [
       "<All keys matched successfully>"
      ]
     },
     "execution_count": 22,
     "metadata": {},
     "output_type": "execute_result"
    }
   ],
   "source": [
    "model.load_state_dict(torch.load('checkpoint_epoch_24.pth'))"
   ]
  },
  {
   "cell_type": "code",
   "execution_count": 32,
   "id": "125981fc",
   "metadata": {},
   "outputs": [
    {
     "data": {
      "application/vnd.jupyter.widget-view+json": {
       "model_id": "d0fbbd7972cb47dea2dfd2a5c9279c25",
       "version_major": 2,
       "version_minor": 0
      },
      "text/plain": [
       "  0%|          | 0/4250 [00:00<?, ?it/s]"
      ]
     },
     "metadata": {},
     "output_type": "display_data"
    }
   ],
   "source": [
    "masks = []\n",
    "for image, _ in tqdm(val_set):\n",
    "    image = image.to(device)\n",
    "    with torch.no_grad():\n",
    "        mask = model(image.unsqueeze(0))\n",
    "    masks.append(mask.squeeze(0).cpu().detach().numpy())"
   ]
  },
  {
   "cell_type": "code",
   "execution_count": 34,
   "id": "e7b56e6c",
   "metadata": {},
   "outputs": [],
   "source": [
    "def sigmoid(x):\n",
    "    return 1/(1 + np.exp(-x))"
   ]
  },
  {
   "cell_type": "code",
   "execution_count": 41,
   "id": "86caadc6",
   "metadata": {},
   "outputs": [],
   "source": [
    "def find_corners(mask):\n",
    "    binary_mask = 255 * (sigmoid(mask) > 0.5).astype(np.uint8)\n",
    "    contours, hierarchy = cv2.findContours(binary_mask, cv2.RETR_TREE, cv2.CHAIN_APPROX_SIMPLE)\n",
    "    areas = list(map(cv2.contourArea, contours))\n",
    "    contour = contours[np.argmax(areas)]\n",
    "    x, y = np.array(contour)[:, 0].T\n",
    "    i_r_b = np.argmax(y + x)\n",
    "    i_l_b = np.argmax(y - x)\n",
    "    i_l_t = np.argmax(-y - x)\n",
    "    i_r_t = np.argmax(-y + x)\n",
    "    return np.array([[x[i_l_t], y[i_l_t],], \n",
    "                     [x[i_r_t], y[i_r_t],],\n",
    "                     [x[i_r_b], y[i_r_b],],\n",
    "                     [x[i_l_b], y[i_l_b],],], dtype=float)"
   ]
  },
  {
   "cell_type": "code",
   "execution_count": 42,
   "id": "47c53a10",
   "metadata": {
    "scrolled": true
   },
   "outputs": [
    {
     "data": {
      "application/vnd.jupyter.widget-view+json": {
       "model_id": "821c94df63cd417ea24fb1124795e482",
       "version_major": 2,
       "version_minor": 0
      },
      "text/plain": [
       "  0%|          | 0/4250 [00:00<?, ?it/s]"
      ]
     },
     "metadata": {},
     "output_type": "display_data"
    }
   ],
   "source": [
    "results_dict = {}\n",
    "for pred_mask, index in tqdm(list(zip(masks, val_set.data_indexes))):\n",
    "    i, j = index\n",
    "    pred_mask = pred_mask[0]\n",
    "    corners = find_corners(pred_mask)\n",
    "    corners[:, 0] /= pred_mask.shape[1]\n",
    "    corners[:, 1] /= pred_mask.shape[0]\n",
    "    \n",
    "    results_dict[data_packs[i][j].unique_key] = corners"
   ]
  },
  {
   "cell_type": "code",
   "execution_count": 43,
   "id": "6b263391",
   "metadata": {},
   "outputs": [],
   "source": [
    "from course_ocr_t1.metrics import dump_results_dict, measure_crop_accuracy"
   ]
  },
  {
   "cell_type": "code",
   "execution_count": 44,
   "id": "cd03eccb",
   "metadata": {},
   "outputs": [],
   "source": [
    "dump_results_dict(results_dict, Path() / 'pred.json')"
   ]
  },
  {
   "cell_type": "code",
   "execution_count": 45,
   "id": "a9601a8b",
   "metadata": {},
   "outputs": [
    {
     "name": "stderr",
     "output_type": "stream",
     "text": [
      "/home/asaginbaev/miniconda3/envs/layout/lib/python3.8/site-packages/shapely/set_operations.py:133: RuntimeWarning: invalid value encountered in intersection\n",
      "  return lib.intersection(a, b, **kwargs)\n",
      "/home/asaginbaev/miniconda3/envs/layout/lib/python3.8/site-packages/shapely/set_operations.py:133: RuntimeWarning: invalid value encountered in intersection\n",
      "  return lib.intersection(a, b, **kwargs)\n",
      "/home/asaginbaev/miniconda3/envs/layout/lib/python3.8/site-packages/shapely/set_operations.py:133: RuntimeWarning: invalid value encountered in intersection\n",
      "  return lib.intersection(a, b, **kwargs)\n",
      "/home/asaginbaev/miniconda3/envs/layout/lib/python3.8/site-packages/shapely/set_operations.py:133: RuntimeWarning: invalid value encountered in intersection\n",
      "  return lib.intersection(a, b, **kwargs)\n",
      "/home/asaginbaev/miniconda3/envs/layout/lib/python3.8/site-packages/shapely/set_operations.py:133: RuntimeWarning: invalid value encountered in intersection\n",
      "  return lib.intersection(a, b, **kwargs)\n",
      "/home/asaginbaev/miniconda3/envs/layout/lib/python3.8/site-packages/shapely/set_operations.py:133: RuntimeWarning: invalid value encountered in intersection\n",
      "  return lib.intersection(a, b, **kwargs)\n",
      "/home/asaginbaev/miniconda3/envs/layout/lib/python3.8/site-packages/shapely/set_operations.py:133: RuntimeWarning: invalid value encountered in intersection\n",
      "  return lib.intersection(a, b, **kwargs)\n",
      "/home/asaginbaev/miniconda3/envs/layout/lib/python3.8/site-packages/shapely/set_operations.py:133: RuntimeWarning: invalid value encountered in intersection\n",
      "  return lib.intersection(a, b, **kwargs)\n",
      "/home/asaginbaev/miniconda3/envs/layout/lib/python3.8/site-packages/shapely/set_operations.py:133: RuntimeWarning: invalid value encountered in intersection\n",
      "  return lib.intersection(a, b, **kwargs)\n",
      "/home/asaginbaev/miniconda3/envs/layout/lib/python3.8/site-packages/shapely/set_operations.py:133: RuntimeWarning: invalid value encountered in intersection\n",
      "  return lib.intersection(a, b, **kwargs)\n",
      "/home/asaginbaev/miniconda3/envs/layout/lib/python3.8/site-packages/shapely/set_operations.py:133: RuntimeWarning: invalid value encountered in intersection\n",
      "  return lib.intersection(a, b, **kwargs)\n",
      "/home/asaginbaev/miniconda3/envs/layout/lib/python3.8/site-packages/shapely/set_operations.py:133: RuntimeWarning: invalid value encountered in intersection\n",
      "  return lib.intersection(a, b, **kwargs)\n",
      "/home/asaginbaev/miniconda3/envs/layout/lib/python3.8/site-packages/shapely/set_operations.py:133: RuntimeWarning: invalid value encountered in intersection\n",
      "  return lib.intersection(a, b, **kwargs)\n",
      "/home/asaginbaev/miniconda3/envs/layout/lib/python3.8/site-packages/shapely/set_operations.py:133: RuntimeWarning: invalid value encountered in intersection\n",
      "  return lib.intersection(a, b, **kwargs)\n",
      "/home/asaginbaev/miniconda3/envs/layout/lib/python3.8/site-packages/shapely/set_operations.py:133: RuntimeWarning: invalid value encountered in intersection\n",
      "  return lib.intersection(a, b, **kwargs)\n",
      "/home/asaginbaev/miniconda3/envs/layout/lib/python3.8/site-packages/shapely/set_operations.py:133: RuntimeWarning: invalid value encountered in intersection\n",
      "  return lib.intersection(a, b, **kwargs)\n",
      "/home/asaginbaev/miniconda3/envs/layout/lib/python3.8/site-packages/shapely/set_operations.py:133: RuntimeWarning: invalid value encountered in intersection\n",
      "  return lib.intersection(a, b, **kwargs)\n",
      "/home/asaginbaev/miniconda3/envs/layout/lib/python3.8/site-packages/shapely/set_operations.py:133: RuntimeWarning: invalid value encountered in intersection\n",
      "  return lib.intersection(a, b, **kwargs)\n",
      "/home/asaginbaev/miniconda3/envs/layout/lib/python3.8/site-packages/shapely/set_operations.py:133: RuntimeWarning: invalid value encountered in intersection\n",
      "  return lib.intersection(a, b, **kwargs)\n",
      "/home/asaginbaev/miniconda3/envs/layout/lib/python3.8/site-packages/shapely/set_operations.py:133: RuntimeWarning: invalid value encountered in intersection\n",
      "  return lib.intersection(a, b, **kwargs)\n",
      "/home/asaginbaev/miniconda3/envs/layout/lib/python3.8/site-packages/shapely/set_operations.py:133: RuntimeWarning: invalid value encountered in intersection\n",
      "  return lib.intersection(a, b, **kwargs)\n",
      "/home/asaginbaev/miniconda3/envs/layout/lib/python3.8/site-packages/shapely/set_operations.py:133: RuntimeWarning: invalid value encountered in intersection\n",
      "  return lib.intersection(a, b, **kwargs)\n",
      "/home/asaginbaev/miniconda3/envs/layout/lib/python3.8/site-packages/shapely/set_operations.py:133: RuntimeWarning: invalid value encountered in intersection\n",
      "  return lib.intersection(a, b, **kwargs)\n",
      "/home/asaginbaev/miniconda3/envs/layout/lib/python3.8/site-packages/shapely/set_operations.py:133: RuntimeWarning: invalid value encountered in intersection\n",
      "  return lib.intersection(a, b, **kwargs)\n",
      "/home/asaginbaev/miniconda3/envs/layout/lib/python3.8/site-packages/shapely/set_operations.py:133: RuntimeWarning: invalid value encountered in intersection\n",
      "  return lib.intersection(a, b, **kwargs)\n",
      "/home/asaginbaev/miniconda3/envs/layout/lib/python3.8/site-packages/shapely/set_operations.py:133: RuntimeWarning: invalid value encountered in intersection\n",
      "  return lib.intersection(a, b, **kwargs)\n",
      "/home/asaginbaev/miniconda3/envs/layout/lib/python3.8/site-packages/shapely/set_operations.py:133: RuntimeWarning: invalid value encountered in intersection\n",
      "  return lib.intersection(a, b, **kwargs)\n",
      "/home/asaginbaev/miniconda3/envs/layout/lib/python3.8/site-packages/shapely/set_operations.py:133: RuntimeWarning: invalid value encountered in intersection\n",
      "  return lib.intersection(a, b, **kwargs)\n",
      "/home/asaginbaev/miniconda3/envs/layout/lib/python3.8/site-packages/shapely/set_operations.py:133: RuntimeWarning: invalid value encountered in intersection\n",
      "  return lib.intersection(a, b, **kwargs)\n",
      "/home/asaginbaev/miniconda3/envs/layout/lib/python3.8/site-packages/shapely/set_operations.py:133: RuntimeWarning: invalid value encountered in intersection\n",
      "  return lib.intersection(a, b, **kwargs)\n",
      "/home/asaginbaev/miniconda3/envs/layout/lib/python3.8/site-packages/shapely/set_operations.py:133: RuntimeWarning: invalid value encountered in intersection\n",
      "  return lib.intersection(a, b, **kwargs)\n",
      "/home/asaginbaev/miniconda3/envs/layout/lib/python3.8/site-packages/shapely/set_operations.py:133: RuntimeWarning: invalid value encountered in intersection\n",
      "  return lib.intersection(a, b, **kwargs)\n",
      "/home/asaginbaev/miniconda3/envs/layout/lib/python3.8/site-packages/shapely/set_operations.py:133: RuntimeWarning: invalid value encountered in intersection\n",
      "  return lib.intersection(a, b, **kwargs)\n",
      "/home/asaginbaev/miniconda3/envs/layout/lib/python3.8/site-packages/shapely/set_operations.py:133: RuntimeWarning: invalid value encountered in intersection\n",
      "  return lib.intersection(a, b, **kwargs)\n",
      "/home/asaginbaev/miniconda3/envs/layout/lib/python3.8/site-packages/shapely/set_operations.py:133: RuntimeWarning: invalid value encountered in intersection\n",
      "  return lib.intersection(a, b, **kwargs)\n",
      "/home/asaginbaev/miniconda3/envs/layout/lib/python3.8/site-packages/shapely/set_operations.py:133: RuntimeWarning: invalid value encountered in intersection\n",
      "  return lib.intersection(a, b, **kwargs)\n",
      "/home/asaginbaev/miniconda3/envs/layout/lib/python3.8/site-packages/shapely/set_operations.py:133: RuntimeWarning: invalid value encountered in intersection\n",
      "  return lib.intersection(a, b, **kwargs)\n",
      "/home/asaginbaev/miniconda3/envs/layout/lib/python3.8/site-packages/shapely/set_operations.py:133: RuntimeWarning: invalid value encountered in intersection\n",
      "  return lib.intersection(a, b, **kwargs)\n",
      "/home/asaginbaev/miniconda3/envs/layout/lib/python3.8/site-packages/shapely/set_operations.py:133: RuntimeWarning: invalid value encountered in intersection\n",
      "  return lib.intersection(a, b, **kwargs)\n",
      "/home/asaginbaev/miniconda3/envs/layout/lib/python3.8/site-packages/shapely/set_operations.py:133: RuntimeWarning: invalid value encountered in intersection\n",
      "  return lib.intersection(a, b, **kwargs)\n",
      "/home/asaginbaev/miniconda3/envs/layout/lib/python3.8/site-packages/shapely/set_operations.py:133: RuntimeWarning: invalid value encountered in intersection\n",
      "  return lib.intersection(a, b, **kwargs)\n",
      "/home/asaginbaev/miniconda3/envs/layout/lib/python3.8/site-packages/shapely/set_operations.py:133: RuntimeWarning: invalid value encountered in intersection\n",
      "  return lib.intersection(a, b, **kwargs)\n",
      "/home/asaginbaev/miniconda3/envs/layout/lib/python3.8/site-packages/shapely/set_operations.py:133: RuntimeWarning: invalid value encountered in intersection\n",
      "  return lib.intersection(a, b, **kwargs)\n",
      "/home/asaginbaev/miniconda3/envs/layout/lib/python3.8/site-packages/shapely/set_operations.py:133: RuntimeWarning: invalid value encountered in intersection\n",
      "  return lib.intersection(a, b, **kwargs)\n",
      "/home/asaginbaev/miniconda3/envs/layout/lib/python3.8/site-packages/shapely/set_operations.py:133: RuntimeWarning: invalid value encountered in intersection\n",
      "  return lib.intersection(a, b, **kwargs)\n",
      "/home/asaginbaev/miniconda3/envs/layout/lib/python3.8/site-packages/shapely/set_operations.py:133: RuntimeWarning: invalid value encountered in intersection\n",
      "  return lib.intersection(a, b, **kwargs)\n",
      "/home/asaginbaev/miniconda3/envs/layout/lib/python3.8/site-packages/shapely/set_operations.py:133: RuntimeWarning: invalid value encountered in intersection\n",
      "  return lib.intersection(a, b, **kwargs)\n",
      "/home/asaginbaev/miniconda3/envs/layout/lib/python3.8/site-packages/shapely/set_operations.py:133: RuntimeWarning: invalid value encountered in intersection\n",
      "  return lib.intersection(a, b, **kwargs)\n",
      "/home/asaginbaev/miniconda3/envs/layout/lib/python3.8/site-packages/shapely/set_operations.py:133: RuntimeWarning: invalid value encountered in intersection\n",
      "  return lib.intersection(a, b, **kwargs)\n",
      "/home/asaginbaev/miniconda3/envs/layout/lib/python3.8/site-packages/shapely/set_operations.py:133: RuntimeWarning: invalid value encountered in intersection\n",
      "  return lib.intersection(a, b, **kwargs)\n",
      "/home/asaginbaev/miniconda3/envs/layout/lib/python3.8/site-packages/shapely/set_operations.py:133: RuntimeWarning: invalid value encountered in intersection\n",
      "  return lib.intersection(a, b, **kwargs)\n"
     ]
    }
   ],
   "source": [
    "acc = measure_crop_accuracy(\n",
    "    Path() / 'pred.json',\n",
    "    Path() / 'gt.json'\n",
    ")"
   ]
  },
  {
   "cell_type": "code",
   "execution_count": 46,
   "id": "72efaea0",
   "metadata": {},
   "outputs": [
    {
     "name": "stdout",
     "output_type": "stream",
     "text": [
      "Точность кропа: 0.8480\n"
     ]
    }
   ],
   "source": [
    "print(\"Точность кропа: {:1.4f}\".format(acc))"
   ]
  },
  {
   "cell_type": "code",
   "execution_count": null,
   "id": "af8326af-d6e7-42a4-bdcf-bdbca25010f3",
   "metadata": {},
   "outputs": [],
   "source": []
  }
 ],
 "metadata": {
  "kernelspec": {
   "display_name": "Python 3 (ipykernel)",
   "language": "python",
   "name": "python3"
  },
  "language_info": {
   "codemirror_mode": {
    "name": "ipython",
    "version": 3
   },
   "file_extension": ".py",
   "mimetype": "text/x-python",
   "name": "python",
   "nbconvert_exporter": "python",
   "pygments_lexer": "ipython3",
   "version": "3.8.5"
  }
 },
 "nbformat": 4,
 "nbformat_minor": 5
}
