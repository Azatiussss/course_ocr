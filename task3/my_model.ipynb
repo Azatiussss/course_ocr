{
 "cells": [
  {
   "cell_type": "code",
   "execution_count": 1,
   "id": "2685783b-d09e-4363-8031-3860fb7c4f5b",
   "metadata": {},
   "outputs": [],
   "source": [
    "from pathlib import Path\n",
    "from tqdm import tqdm\n",
    "from matplotlib import pyplot as plt\n",
    "import numpy as np\n",
    "from tqdm.notebook import tqdm\n",
    "import os\n",
    "import wandb\n",
    "import cv2\n",
    "import pandas as pd"
   ]
  },
  {
   "cell_type": "code",
   "execution_count": 2,
   "id": "820a2722",
   "metadata": {},
   "outputs": [],
   "source": [
    "from torch.utils.data import Dataset, DataLoader\n",
    "import torch\n",
    "import torch.nn as nn\n",
    "import torch.nn.functional as F\n",
    "import torchvision"
   ]
  },
  {
   "cell_type": "code",
   "execution_count": 3,
   "id": "bb46429d",
   "metadata": {},
   "outputs": [],
   "source": [
    "class BarCodeDataset(Dataset):\n",
    "    def __init__(self, root_dir, ):\n",
    "        self.root_dir = root_dir\n",
    "        self.data_list = pd.read_csv(f'{root_dir}/markup.csv', encoding = \"utf-16\", \n",
    "                     names=['file_name', 'code', 'x1', 'y1', 'x2', 'y2', 'x3', 'y3', 'x4', 'y4', 'binary'])\n",
    "        self.data_list = self.data_list.loc[self.data_list['file_name'].isin(os.listdir(f'{root_dir}/Images/'))]\n",
    "        self.resize = torchvision.transforms.Resize([200, 400])\n",
    "        \n",
    "    def __len__(self):\n",
    "        return len(self.data_list)\n",
    "\n",
    "    def __getitem__(self, idx):\n",
    "        sample_data = self.data_list.iloc[idx]\n",
    "        image = torch.FloatTensor(cv2.imread(self.root_dir + '/Images/' + sample_data['file_name'])) / 255\n",
    "        mask = np.zeros(image.shape[:2])\n",
    "        mask = torch.LongTensor(cv2.fillConvexPoly(mask, \n",
    "                np.array(sample_data[['x1', 'y1', 'x2', 'y2', 'x3', \n",
    "                'y3', 'x4', 'y4']].to_numpy().reshape((4, 2)), dtype=int), (1, ))).unsqueeze(0)\n",
    "        image = image.permute([2, 0, 1])\n",
    "        if image.shape[1] > image.shape[2]:\n",
    "            image = torch.rot90(image, k=1, dims=[1, 2])\n",
    "            mask = torch.rot90(mask, k=1, dims=[1, 2])\n",
    "        return self.resize(image), self.resize(mask).squeeze(0)"
   ]
  },
  {
   "cell_type": "code",
   "execution_count": 4,
   "id": "f43ea73f",
   "metadata": {},
   "outputs": [],
   "source": [
    "class DoubleConv(nn.Module):\n",
    "    \"\"\"(convolution => [BN] => ReLU) * 2\"\"\"\n",
    "\n",
    "    def __init__(self, in_channels, out_channels, mid_channels=None):\n",
    "        super().__init__()\n",
    "        if not mid_channels:\n",
    "            mid_channels = out_channels\n",
    "        self.double_conv = nn.Sequential(\n",
    "            nn.Conv2d(in_channels, mid_channels, kernel_size=3, padding=1, bias=False),\n",
    "            nn.BatchNorm2d(mid_channels),\n",
    "            nn.ReLU(inplace=True),\n",
    "            nn.Conv2d(mid_channels, out_channels, kernel_size=3, padding=1, bias=False),\n",
    "            nn.BatchNorm2d(out_channels),\n",
    "            nn.ReLU(inplace=True)\n",
    "        )\n",
    "\n",
    "    def forward(self, x):\n",
    "        return self.double_conv(x)\n",
    "\n",
    "\n",
    "class Down(nn.Module):\n",
    "    \"\"\"Downscaling with maxpool then double conv\"\"\"\n",
    "\n",
    "    def __init__(self, in_channels, out_channels):\n",
    "        super().__init__()\n",
    "        self.maxpool_conv = nn.Sequential(\n",
    "            nn.MaxPool2d(2),\n",
    "            DoubleConv(in_channels, out_channels)\n",
    "        )\n",
    "\n",
    "    def forward(self, x):\n",
    "        return self.maxpool_conv(x)\n",
    "\n",
    "\n",
    "class Up(nn.Module):\n",
    "    \"\"\"Upscaling then double conv\"\"\"\n",
    "\n",
    "    def __init__(self, in_channels, out_channels, bilinear=True):\n",
    "        super().__init__()\n",
    "\n",
    "        # if bilinear, use the normal convolutions to reduce the number of channels\n",
    "        if bilinear:\n",
    "            self.up = nn.Upsample(scale_factor=2, mode='bilinear', align_corners=True)\n",
    "            self.conv = DoubleConv(in_channels, out_channels, in_channels // 2)\n",
    "        else:\n",
    "            self.up = nn.ConvTranspose2d(in_channels, in_channels // 2, kernel_size=2, stride=2)\n",
    "            self.conv = DoubleConv(in_channels, out_channels)\n",
    "\n",
    "    def forward(self, x1, x2):\n",
    "        x1 = self.up(x1)\n",
    "        # input is CHW\n",
    "        diffY = x2.size()[2] - x1.size()[2]\n",
    "        diffX = x2.size()[3] - x1.size()[3]\n",
    "\n",
    "        x1 = F.pad(x1, [diffX // 2, diffX - diffX // 2,\n",
    "                        diffY // 2, diffY - diffY // 2])\n",
    "        # if you have padding issues, see\n",
    "        # https://github.com/HaiyongJiang/U-Net-Pytorch-Unstructured-Buggy/commit/0e854509c2cea854e247a9c615f175f76fbb2e3a\n",
    "        # https://github.com/xiaopeng-liao/Pytorch-UNet/commit/8ebac70e633bac59fc22bb5195e513d5832fb3bd\n",
    "        x = torch.cat([x2, x1], dim=1)\n",
    "        return self.conv(x)\n",
    "\n",
    "\n",
    "class OutConv(nn.Module):\n",
    "    def __init__(self, in_channels, out_channels):\n",
    "        super(OutConv, self).__init__()\n",
    "        self.conv = nn.Conv2d(in_channels, out_channels, kernel_size=1)\n",
    "\n",
    "    def forward(self, x):\n",
    "        return self.conv(x)"
   ]
  },
  {
   "cell_type": "code",
   "execution_count": 5,
   "id": "1200be62",
   "metadata": {},
   "outputs": [],
   "source": [
    "class UNet(nn.Module):\n",
    "    def __init__(self, n_channels, n_classes, bilinear=False):\n",
    "        super(UNet, self).__init__()\n",
    "        self.n_channels = n_channels\n",
    "        self.n_classes = n_classes\n",
    "        self.bilinear = bilinear\n",
    "\n",
    "        self.inc = (DoubleConv(n_channels, 64))\n",
    "        self.down1 = (Down(64, 128))\n",
    "        self.down2 = (Down(128, 256))\n",
    "        self.down3 = (Down(256, 512))\n",
    "        factor = 2 if bilinear else 1\n",
    "        self.down4 = (Down(512, 1024 // factor))\n",
    "        self.up1 = (Up(1024, 512 // factor, bilinear))\n",
    "        self.up2 = (Up(512, 256 // factor, bilinear))\n",
    "        self.up3 = (Up(256, 128 // factor, bilinear))\n",
    "        self.up4 = (Up(128, 64, bilinear))\n",
    "        self.outc = (OutConv(64, n_classes))\n",
    "\n",
    "    def forward(self, x):\n",
    "        x1 = self.inc(x)\n",
    "        x2 = self.down1(x1)\n",
    "        x3 = self.down2(x2)\n",
    "        x4 = self.down3(x3)\n",
    "        x5 = self.down4(x4)\n",
    "        x = self.up1(x5, x4)\n",
    "        x = self.up2(x, x3)\n",
    "        x = self.up3(x, x2)\n",
    "        x = self.up4(x, x1)\n",
    "        logits = self.outc(x)\n",
    "        return logits\n",
    "\n",
    "    def use_checkpointing(self):\n",
    "        self.inc = torch.utils.checkpoint(self.inc)\n",
    "        self.down1 = torch.utils.checkpoint(self.down1)\n",
    "        self.down2 = torch.utils.checkpoint(self.down2)\n",
    "        self.down3 = torch.utils.checkpoint(self.down3)\n",
    "        self.down4 = torch.utils.checkpoint(self.down4)\n",
    "        self.up1 = torch.utils.checkpoint(self.up1)\n",
    "        self.up2 = torch.utils.checkpoint(self.up2)\n",
    "        self.up3 = torch.utils.checkpoint(self.up3)\n",
    "        self.up4 = torch.utils.checkpoint(self.up4)\n",
    "        self.outc = torch.utils.checkpoint(self.outc)"
   ]
  },
  {
   "cell_type": "code",
   "execution_count": 8,
   "id": "ff81f8a5",
   "metadata": {},
   "outputs": [],
   "source": [
    "train_set = BarCodeDataset('/DATA/asaginbaev/CourseOCRTask3/Train/')"
   ]
  },
  {
   "cell_type": "code",
   "execution_count": 9,
   "id": "7ddc9a5b",
   "metadata": {},
   "outputs": [],
   "source": [
    "train_loader = DataLoader(train_set, batch_size=4, shuffle=True, num_workers=4)"
   ]
  },
  {
   "cell_type": "code",
   "execution_count": 6,
   "id": "b6ddca94",
   "metadata": {},
   "outputs": [],
   "source": [
    "def dice_coeff(input, target, reduce_batch_first = False, epsilon = 1e-6):\n",
    "    assert input.size() == target.size()\n",
    "    assert input.dim() == 3 or not reduce_batch_first\n",
    "\n",
    "    sum_dim = (-1, -2) if input.dim() == 2 or not reduce_batch_first else (-1, -2, -3)\n",
    "\n",
    "    inter = 2 * (input * target).sum(dim=sum_dim)\n",
    "    sets_sum = input.sum(dim=sum_dim) + target.sum(dim=sum_dim)\n",
    "    sets_sum = torch.where(sets_sum == 0, inter, sets_sum)\n",
    "\n",
    "    dice = (inter + epsilon) / (sets_sum + epsilon)\n",
    "    return dice.mean()"
   ]
  },
  {
   "cell_type": "code",
   "execution_count": 7,
   "id": "68e1fd95",
   "metadata": {},
   "outputs": [],
   "source": [
    "def dice_loss(input, target):\n",
    "    return 1 - dice_coeff(input, target, reduce_batch_first=True)"
   ]
  },
  {
   "cell_type": "code",
   "execution_count": 8,
   "id": "0cda35c7",
   "metadata": {},
   "outputs": [
    {
     "data": {
      "text/plain": [
       "device(type='cuda')"
      ]
     },
     "execution_count": 8,
     "metadata": {},
     "output_type": "execute_result"
    }
   ],
   "source": [
    "os.environ[\"CUDA_DEVICE_ORDER\"]=\"PCI_BUS_ID\"\n",
    "os.environ[\"CUDA_VISIBLE_DEVICES\"]=\"1\"\n",
    "device = torch.device('cuda' if torch.cuda.is_available() else 'cpu')\n",
    "device"
   ]
  },
  {
   "cell_type": "code",
   "execution_count": 10,
   "id": "62b8a499",
   "metadata": {},
   "outputs": [
    {
     "name": "stdout",
     "output_type": "stream",
     "text": [
      "Sun Apr 23 13:04:01 2023       \n",
      "+-----------------------------------------------------------------------------+\n",
      "| NVIDIA-SMI 470.182.03   Driver Version: 470.182.03   CUDA Version: 11.4     |\n",
      "|-------------------------------+----------------------+----------------------+\n",
      "| GPU  Name        Persistence-M| Bus-Id        Disp.A | Volatile Uncorr. ECC |\n",
      "| Fan  Temp  Perf  Pwr:Usage/Cap|         Memory-Usage | GPU-Util  Compute M. |\n",
      "|                               |                      |               MIG M. |\n",
      "|===============================+======================+======================|\n",
      "|   0  NVIDIA TITAN RTX    Off  | 00000000:18:00.0 Off |                  N/A |\n",
      "| 41%   25C    P8    18W / 280W |   1241MiB / 24220MiB |      0%      Default |\n",
      "|                               |                      |                  N/A |\n",
      "+-------------------------------+----------------------+----------------------+\n",
      "|   1  NVIDIA TITAN V      Off  | 00000000:3B:00.0 Off |                  N/A |\n",
      "| 28%   31C    P2    35W / 250W |   2131MiB / 12066MiB |      0%      Default |\n",
      "|                               |                      |                  N/A |\n",
      "+-------------------------------+----------------------+----------------------+\n",
      "|   2  NVIDIA TITAN V      Off  | 00000000:86:00.0 Off |                  N/A |\n",
      "| 33%   49C    P2   151W / 250W |   7826MiB / 12066MiB |     91%      Default |\n",
      "|                               |                      |                  N/A |\n",
      "+-------------------------------+----------------------+----------------------+\n",
      "|   3  NVIDIA TITAN RTX    Off  | 00000000:AF:00.0 Off |                  N/A |\n",
      "|129%   88C    P2   151W / 280W |   7501MiB / 24220MiB |     82%      Default |\n",
      "|                               |                      |                  N/A |\n",
      "+-------------------------------+----------------------+----------------------+\n",
      "                                                                               \n",
      "+-----------------------------------------------------------------------------+\n",
      "| Processes:                                                                  |\n",
      "|  GPU   GI   CI        PID   Type   Process name                  GPU Memory |\n",
      "|        ID   ID                                                   Usage      |\n",
      "|=============================================================================|\n",
      "|    0   N/A  N/A      2188      G   /usr/lib/xorg/Xorg                  4MiB |\n",
      "|    0   N/A  N/A    370034      C   ...a3/envs/layout/bin/python     1233MiB |\n",
      "|    1   N/A  N/A      2188      G   /usr/lib/xorg/Xorg                  4MiB |\n",
      "|    1   N/A  N/A    475805      C   ...a3/envs/layout/bin/python      939MiB |\n",
      "|    1   N/A  N/A    579407      C   ...a3/envs/layout/bin/python     1183MiB |\n",
      "|    2   N/A  N/A      2188      G   /usr/lib/xorg/Xorg                  4MiB |\n",
      "|    2   N/A  N/A   3925701      C   python3                          7817MiB |\n",
      "|    3   N/A  N/A      2188      G   /usr/lib/xorg/Xorg                  4MiB |\n",
      "|    3   N/A  N/A   2679180      C   python                           7493MiB |\n",
      "+-----------------------------------------------------------------------------+\n"
     ]
    }
   ],
   "source": [
    "!nvidia-smi"
   ]
  },
  {
   "cell_type": "code",
   "execution_count": 14,
   "id": "4e366f94",
   "metadata": {
    "scrolled": true
   },
   "outputs": [
    {
     "name": "stderr",
     "output_type": "stream",
     "text": [
      "\u001b[34m\u001b[1mwandb\u001b[0m: Currently logged in as: \u001b[33mazatiusssss\u001b[0m (use `wandb login --relogin` to force relogin)\n"
     ]
    },
    {
     "data": {
      "text/html": [
       "wandb version 0.14.2 is available!  To upgrade, please run:\n",
       " $ pip install wandb --upgrade"
      ],
      "text/plain": [
       "<IPython.core.display.HTML object>"
      ]
     },
     "metadata": {},
     "output_type": "display_data"
    },
    {
     "data": {
      "text/html": [
       "Tracking run with wandb version 0.12.13"
      ],
      "text/plain": [
       "<IPython.core.display.HTML object>"
      ]
     },
     "metadata": {},
     "output_type": "display_data"
    },
    {
     "data": {
      "text/html": [
       "Run data is saved locally in <code>/home/asaginbaev/course_ocr/task3/wandb/run-20230419_213036-qeik6osj</code>"
      ],
      "text/plain": [
       "<IPython.core.display.HTML object>"
      ]
     },
     "metadata": {},
     "output_type": "display_data"
    },
    {
     "data": {
      "text/html": [
       "Syncing run <strong><a href=\"https://wandb.ai/azatiusssss/abbyy_ocr/runs/qeik6osj\" target=\"_blank\">ancient-meadow-38</a></strong> to <a href=\"https://wandb.ai/azatiusssss/abbyy_ocr\" target=\"_blank\">Weights & Biases</a> (<a href=\"https://wandb.me/run\" target=\"_blank\">docs</a>)<br/>"
      ],
      "text/plain": [
       "<IPython.core.display.HTML object>"
      ]
     },
     "metadata": {},
     "output_type": "display_data"
    }
   ],
   "source": [
    "logger = wandb.init(project='abbyy_ocr')"
   ]
  },
  {
   "cell_type": "code",
   "execution_count": 15,
   "id": "ea8b6f70",
   "metadata": {},
   "outputs": [],
   "source": [
    "criterion = nn.BCEWithLogitsLoss()"
   ]
  },
  {
   "cell_type": "code",
   "execution_count": 25,
   "id": "1f07ee5a",
   "metadata": {},
   "outputs": [],
   "source": [
    "model = UNet(3, 1)"
   ]
  },
  {
   "cell_type": "code",
   "execution_count": 26,
   "id": "5c2d45fc",
   "metadata": {},
   "outputs": [],
   "source": [
    "model.to(device);"
   ]
  },
  {
   "cell_type": "code",
   "execution_count": 18,
   "id": "3db25afd",
   "metadata": {},
   "outputs": [],
   "source": [
    "optimizer = torch.optim.RMSprop(model.parameters(), lr=1e-3, foreach=True)"
   ]
  },
  {
   "cell_type": "code",
   "execution_count": 19,
   "id": "9722be55",
   "metadata": {},
   "outputs": [],
   "source": [
    "scheduler = torch.optim.lr_scheduler.ReduceLROnPlateau(optimizer, 'max', patience=5)"
   ]
  },
  {
   "cell_type": "code",
   "execution_count": 20,
   "id": "fb1c1b8b",
   "metadata": {},
   "outputs": [
    {
     "data": {
      "application/vnd.jupyter.widget-view+json": {
       "model_id": "adc3e67a118749c98f484be4a8061cf2",
       "version_major": 2,
       "version_minor": 0
      },
      "text/plain": [
       "  0%|          | 0/5 [00:00<?, ?it/s]"
      ]
     },
     "metadata": {},
     "output_type": "display_data"
    },
    {
     "data": {
      "application/vnd.jupyter.widget-view+json": {
       "model_id": "53e9d97c8bb84526af04d594152dfa7a",
       "version_major": 2,
       "version_minor": 0
      },
      "text/plain": [
       "  0%|          | 0/2050 [00:00<?, ?it/s]"
      ]
     },
     "metadata": {},
     "output_type": "display_data"
    },
    {
     "name": "stderr",
     "output_type": "stream",
     "text": [
      "/home/asaginbaev/miniconda3/envs/layout/lib/python3.8/site-packages/torch/nn/functional.py:1967: UserWarning: nn.functional.sigmoid is deprecated. Use torch.sigmoid instead.\n",
      "  warnings.warn(\"nn.functional.sigmoid is deprecated. Use torch.sigmoid instead.\")\n"
     ]
    },
    {
     "data": {
      "application/vnd.jupyter.widget-view+json": {
       "model_id": "b77361ae1d614071b811ab76c1905410",
       "version_major": 2,
       "version_minor": 0
      },
      "text/plain": [
       "  0%|          | 0/2050 [00:00<?, ?it/s]"
      ]
     },
     "metadata": {},
     "output_type": "display_data"
    },
    {
     "data": {
      "application/vnd.jupyter.widget-view+json": {
       "model_id": "c579b94cc34a47309200c42d86ff5af6",
       "version_major": 2,
       "version_minor": 0
      },
      "text/plain": [
       "  0%|          | 0/2050 [00:00<?, ?it/s]"
      ]
     },
     "metadata": {},
     "output_type": "display_data"
    },
    {
     "data": {
      "application/vnd.jupyter.widget-view+json": {
       "model_id": "cbe643336ac04c5283f47b1a032903e3",
       "version_major": 2,
       "version_minor": 0
      },
      "text/plain": [
       "  0%|          | 0/2050 [00:00<?, ?it/s]"
      ]
     },
     "metadata": {},
     "output_type": "display_data"
    },
    {
     "data": {
      "application/vnd.jupyter.widget-view+json": {
       "model_id": "5921384f2abd4f7599d3bd45c20df73f",
       "version_major": 2,
       "version_minor": 0
      },
      "text/plain": [
       "  0%|          | 0/2050 [00:00<?, ?it/s]"
      ]
     },
     "metadata": {},
     "output_type": "display_data"
    }
   ],
   "source": [
    "global_step = 0\n",
    "for epoch in tqdm(range(5)):\n",
    "    for images, masks in tqdm(train_loader):\n",
    "        images = images.to(device=device, dtype=torch.float32, memory_format=torch.channels_last)\n",
    "        masks = masks.to(device=device, dtype=torch.long)\n",
    "        masks_pred = model(images)\n",
    "        loss = criterion(masks_pred.squeeze(1), masks.float())\n",
    "        loss += dice_loss(F.sigmoid(masks_pred.squeeze(1)), masks.float())\n",
    "        loss.backward()\n",
    "        optimizer.step()\n",
    "        optimizer.zero_grad(set_to_none=True)\n",
    "        logger.log({\n",
    "                    'train loss': loss.item(),\n",
    "                    'step': global_step,\n",
    "                    'epoch': epoch\n",
    "                })\n",
    "        global_step += 1\n",
    "    torch.save(model.state_dict(), f'checkpoint_epoch_{epoch}.pth')"
   ]
  },
  {
   "cell_type": "code",
   "execution_count": 22,
   "id": "0942e615",
   "metadata": {},
   "outputs": [],
   "source": [
    "wandb.finish()"
   ]
  },
  {
   "cell_type": "code",
   "execution_count": 27,
   "id": "c6b27036",
   "metadata": {},
   "outputs": [
    {
     "data": {
      "text/plain": [
       "<All keys matched successfully>"
      ]
     },
     "execution_count": 27,
     "metadata": {},
     "output_type": "execute_result"
    }
   ],
   "source": [
    "model.load_state_dict(torch.load('checkpoint_epoch_4.pth'))"
   ]
  },
  {
   "cell_type": "code",
   "execution_count": 9,
   "id": "f87c42f4",
   "metadata": {},
   "outputs": [],
   "source": [
    "class BarCodeDecoder(nn.Module):\n",
    "    def __init__(self, ):\n",
    "        super(BarCodeDecoder, self).__init__()\n",
    "        self.conv1 = nn.Conv2d(3, 16, 3, padding='same')\n",
    "        self.bn1 = nn.BatchNorm2d(16)\n",
    "        self.conv2 = nn.Conv2d(16, 32, 3, padding='same')\n",
    "        self.bn2 = nn.BatchNorm2d(32)\n",
    "        self.conv3 = nn.Conv2d(32, 64, 3, padding='same')\n",
    "        self.bn3 = nn.BatchNorm2d(64)\n",
    "        self.conv4 = nn.Conv2d(64, 128, 3, padding='same')\n",
    "        self.bn4 = nn.BatchNorm2d(128)\n",
    "        self.lstm = nn.LSTM(128, 128, num_layers=2, batch_first=True, bidirectional=True)\n",
    "        self.fc = nn.Linear(256, 10)\n",
    "        \n",
    "    def forward(self, x):\n",
    "        x = F.max_pool2d(self.bn1(F.relu(self.conv1(x))), 2)\n",
    "        x = F.max_pool2d(self.bn2(F.relu(self.conv2(x))), 2)\n",
    "        x = F.max_pool2d(self.bn3(F.relu(self.conv3(x))), 2)\n",
    "        x = F.max_pool2d(self.bn4(F.relu(self.conv4(x))), 2)\n",
    "        x = torch.flatten(x, start_dim=1, end_dim=2)\n",
    "        x = x.permute([0, 2, 1])\n",
    "        x, _ = self.lstm(x)\n",
    "        out = self.fc(F.relu(x))  \n",
    "        \n",
    "        return out.permute([0, 2, 1])"
   ]
  },
  {
   "cell_type": "code",
   "execution_count": 10,
   "id": "4ec49ac5",
   "metadata": {},
   "outputs": [],
   "source": [
    "class BarCodeDecodingDataset(Dataset):\n",
    "    def __init__(self, root_dir, ):\n",
    "        self.root_dir = root_dir\n",
    "        self.data_list = pd.read_csv(f'{root_dir}/markup.csv', encoding = \"utf-16\", \n",
    "                     names=['file_name', 'code', 'x1', 'y1', 'x2', 'y2', 'x3', 'y3', 'x4', 'y4', 'binary'])\n",
    "        self.data_list = self.data_list.loc[self.data_list['file_name'].isin(os.listdir(f'{root_dir}/Images/'))]\n",
    "        self.data_list = self.data_list.loc[self.data_list['code'].astype(str).str.len() == 13]\n",
    "        self.resize = torchvision.transforms.Resize([16, 192])\n",
    "        \n",
    "    def __len__(self):\n",
    "        return len(self.data_list)\n",
    "\n",
    "    def __getitem__(self, idx):\n",
    "        sample_data = self.data_list.iloc[idx]\n",
    "        image = torch.FloatTensor(cv2.imread(self.root_dir + '/Images/' + sample_data['file_name'])) / 255\n",
    "        x_s = sample_data[['x1', 'x2', 'x3', 'x4']].to_numpy()\n",
    "        y_s = sample_data[['y1', 'y2', 'y3', 'y4']].to_numpy()\n",
    "        image = image[np.min(y_s):np.max(y_s), np.min(x_s):np.max(x_s)]\n",
    "        image = image.permute([2, 0, 1])\n",
    "        if image.shape[1] > image.shape[2]:\n",
    "            image = torch.rot90(image, k=1, dims=[1, 2])\n",
    "        return self.resize(image), torch.tensor(list(map(int, list(str(sample_data['code']))[1:])))"
   ]
  },
  {
   "cell_type": "code",
   "execution_count": 11,
   "id": "27da30fe",
   "metadata": {},
   "outputs": [],
   "source": [
    "decoder_train_set = BarCodeDecodingDataset('/DATA/asaginbaev/CourseOCRTask3/Train/')"
   ]
  },
  {
   "cell_type": "code",
   "execution_count": 12,
   "id": "acf6152c",
   "metadata": {},
   "outputs": [],
   "source": [
    "decoder_model = BarCodeDecoder()"
   ]
  },
  {
   "cell_type": "code",
   "execution_count": 13,
   "id": "c9da5a68",
   "metadata": {},
   "outputs": [],
   "source": [
    "decoder_model.to(device);"
   ]
  },
  {
   "cell_type": "code",
   "execution_count": 16,
   "id": "9e6ed75a",
   "metadata": {},
   "outputs": [],
   "source": [
    "criterion = nn.CrossEntropyLoss()\n",
    "optimizer = torch.optim.RMSprop(decoder_model.parameters(), lr=1e-4, foreach=True)"
   ]
  },
  {
   "cell_type": "code",
   "execution_count": 17,
   "id": "c48f7ed3",
   "metadata": {},
   "outputs": [],
   "source": [
    "train_loader = DataLoader(decoder_train_set, batch_size=4, shuffle=True, num_workers=4, pin_memory=False)"
   ]
  },
  {
   "cell_type": "code",
   "execution_count": 18,
   "id": "8044e7a2",
   "metadata": {},
   "outputs": [
    {
     "name": "stderr",
     "output_type": "stream",
     "text": [
      "\u001b[34m\u001b[1mwandb\u001b[0m: Currently logged in as: \u001b[33mazatiusssss\u001b[0m (use `wandb login --relogin` to force relogin)\n"
     ]
    },
    {
     "data": {
      "text/html": [
       "wandb version 0.15.0 is available!  To upgrade, please run:\n",
       " $ pip install wandb --upgrade"
      ],
      "text/plain": [
       "<IPython.core.display.HTML object>"
      ]
     },
     "metadata": {},
     "output_type": "display_data"
    },
    {
     "data": {
      "text/html": [
       "Tracking run with wandb version 0.12.13"
      ],
      "text/plain": [
       "<IPython.core.display.HTML object>"
      ]
     },
     "metadata": {},
     "output_type": "display_data"
    },
    {
     "data": {
      "text/html": [
       "Run data is saved locally in <code>/home/asaginbaev/course_ocr/task3/wandb/run-20230423_143349-1lzn9fqz</code>"
      ],
      "text/plain": [
       "<IPython.core.display.HTML object>"
      ]
     },
     "metadata": {},
     "output_type": "display_data"
    },
    {
     "data": {
      "text/html": [
       "Syncing run <strong><a href=\"https://wandb.ai/azatiusssss/abbyy_ocr/runs/1lzn9fqz\" target=\"_blank\">denim-lake-45</a></strong> to <a href=\"https://wandb.ai/azatiusssss/abbyy_ocr\" target=\"_blank\">Weights & Biases</a> (<a href=\"https://wandb.me/run\" target=\"_blank\">docs</a>)<br/>"
      ],
      "text/plain": [
       "<IPython.core.display.HTML object>"
      ]
     },
     "metadata": {},
     "output_type": "display_data"
    }
   ],
   "source": [
    "logger = wandb.init(project='abbyy_ocr')"
   ]
  },
  {
   "cell_type": "code",
   "execution_count": 19,
   "id": "2dd22ec1",
   "metadata": {},
   "outputs": [
    {
     "data": {
      "application/vnd.jupyter.widget-view+json": {
       "model_id": "578832d1fc9d4016992130a938f4975d",
       "version_major": 2,
       "version_minor": 0
      },
      "text/plain": [
       "  0%|          | 0/10 [00:00<?, ?it/s]"
      ]
     },
     "metadata": {},
     "output_type": "display_data"
    },
    {
     "data": {
      "application/vnd.jupyter.widget-view+json": {
       "model_id": "0223cd7010d440959dff990ae39b0311",
       "version_major": 2,
       "version_minor": 0
      },
      "text/plain": [
       "  0%|          | 0/2040 [00:00<?, ?it/s]"
      ]
     },
     "metadata": {},
     "output_type": "display_data"
    },
    {
     "data": {
      "application/vnd.jupyter.widget-view+json": {
       "model_id": "c227495e8f1f4274bc40a83bed544ec5",
       "version_major": 2,
       "version_minor": 0
      },
      "text/plain": [
       "  0%|          | 0/2040 [00:00<?, ?it/s]"
      ]
     },
     "metadata": {},
     "output_type": "display_data"
    },
    {
     "data": {
      "application/vnd.jupyter.widget-view+json": {
       "model_id": "1a946f1d54ee46cca914b77ed71c9bdf",
       "version_major": 2,
       "version_minor": 0
      },
      "text/plain": [
       "  0%|          | 0/2040 [00:00<?, ?it/s]"
      ]
     },
     "metadata": {},
     "output_type": "display_data"
    },
    {
     "data": {
      "application/vnd.jupyter.widget-view+json": {
       "model_id": "d11fedc8554d48298842d3cf3bf58793",
       "version_major": 2,
       "version_minor": 0
      },
      "text/plain": [
       "  0%|          | 0/2040 [00:00<?, ?it/s]"
      ]
     },
     "metadata": {},
     "output_type": "display_data"
    },
    {
     "data": {
      "application/vnd.jupyter.widget-view+json": {
       "model_id": "fa3604de541b45e4ba1384a0a6c179eb",
       "version_major": 2,
       "version_minor": 0
      },
      "text/plain": [
       "  0%|          | 0/2040 [00:00<?, ?it/s]"
      ]
     },
     "metadata": {},
     "output_type": "display_data"
    },
    {
     "data": {
      "application/vnd.jupyter.widget-view+json": {
       "model_id": "9bcb90b7cdc74fe195cdd32e7bff26f1",
       "version_major": 2,
       "version_minor": 0
      },
      "text/plain": [
       "  0%|          | 0/2040 [00:00<?, ?it/s]"
      ]
     },
     "metadata": {},
     "output_type": "display_data"
    },
    {
     "data": {
      "application/vnd.jupyter.widget-view+json": {
       "model_id": "b1329796282b4609bc6e5230375cf9f0",
       "version_major": 2,
       "version_minor": 0
      },
      "text/plain": [
       "  0%|          | 0/2040 [00:00<?, ?it/s]"
      ]
     },
     "metadata": {},
     "output_type": "display_data"
    },
    {
     "data": {
      "application/vnd.jupyter.widget-view+json": {
       "model_id": "2b971b79d569474890bc53cdcfa198fe",
       "version_major": 2,
       "version_minor": 0
      },
      "text/plain": [
       "  0%|          | 0/2040 [00:00<?, ?it/s]"
      ]
     },
     "metadata": {},
     "output_type": "display_data"
    },
    {
     "data": {
      "application/vnd.jupyter.widget-view+json": {
       "model_id": "33bc25253d94482690bb2096f01e7674",
       "version_major": 2,
       "version_minor": 0
      },
      "text/plain": [
       "  0%|          | 0/2040 [00:00<?, ?it/s]"
      ]
     },
     "metadata": {},
     "output_type": "display_data"
    },
    {
     "data": {
      "application/vnd.jupyter.widget-view+json": {
       "model_id": "477a15aa5d604144b71d0c4cfb97bed1",
       "version_major": 2,
       "version_minor": 0
      },
      "text/plain": [
       "  0%|          | 0/2040 [00:00<?, ?it/s]"
      ]
     },
     "metadata": {},
     "output_type": "display_data"
    }
   ],
   "source": [
    "global_step = 0\n",
    "for epoch in tqdm(range(10)):\n",
    "    for images, labels in tqdm(train_loader):\n",
    "        images = images.to(device=device, dtype=torch.float32, memory_format=torch.channels_last)\n",
    "        labels = labels.to(device=device, dtype=torch.long)\n",
    "        labels_pred = decoder_model(images)\n",
    "        loss = criterion(labels_pred, labels)\n",
    "        accuracy = torch.all(labels_pred.argmax(dim=1) == labels, dim=1).type(torch.float).mean()\n",
    "        loss.backward()\n",
    "        optimizer.step()\n",
    "        optimizer.zero_grad(set_to_none=True)\n",
    "        logger.log({\n",
    "                    'train loss': loss.item(),\n",
    "                    'accuracy': accuracy.item(),\n",
    "                    'step': global_step,\n",
    "                    'epoch': epoch\n",
    "                })\n",
    "        global_step += 1\n",
    "    torch.save(decoder_model.state_dict(), f'checkpoint_decoder_1_epoch_{epoch}.pth')"
   ]
  },
  {
   "cell_type": "code",
   "execution_count": 20,
   "id": "131cc845",
   "metadata": {
    "scrolled": true
   },
   "outputs": [
    {
     "name": "stdout",
     "output_type": "stream",
     "text": [
      "\n"
     ]
    },
    {
     "data": {
      "text/html": [
       "Waiting for W&B process to finish... <strong style=\"color:green\">(success).</strong>"
      ],
      "text/plain": [
       "<IPython.core.display.HTML object>"
      ]
     },
     "metadata": {},
     "output_type": "display_data"
    },
    {
     "data": {
      "application/vnd.jupyter.widget-view+json": {
       "model_id": "",
       "version_major": 2,
       "version_minor": 0
      },
      "text/plain": [
       "VBox(children=(Label(value='0.001 MB of 0.001 MB uploaded (0.000 MB deduped)\\r'), FloatProgress(value=1.0, max…"
      ]
     },
     "metadata": {},
     "output_type": "display_data"
    },
    {
     "data": {
      "text/html": [
       "<style>\n",
       "    table.wandb td:nth-child(1) { padding: 0 10px; text-align: right }\n",
       "    .wandb-row { display: flex; flex-direction: row; flex-wrap: wrap; width: 100% }\n",
       "    .wandb-col { display: flex; flex-direction: column; flex-basis: 100%; flex: 1; padding: 10px; }\n",
       "    </style>\n",
       "<div class=\"wandb-row\"><div class=\"wandb-col\"><h3>Run history:</h3><br/><table class=\"wandb\"><tr><td>accuracy</td><td>█▅▅▅▅▅█▅█▅▅▅▅████▅▅▅█▅▁█████▅██████▅████</td></tr><tr><td>epoch</td><td>▁▁▁▁▂▂▂▂▃▃▃▃▃▃▃▃▄▄▄▄▅▅▅▅▆▆▆▆▆▆▆▆▇▇▇▇████</td></tr><tr><td>step</td><td>▁▁▁▂▂▂▂▂▂▃▃▃▃▃▄▄▄▄▄▄▅▅▅▅▅▅▆▆▆▆▆▇▇▇▇▇▇███</td></tr><tr><td>train loss</td><td>▁▅█▃█▂▁▃▁▂▂▂▃▁▁▁▂▆▂▅▂▂▇▁▁▁▂▁▇▁▂▁▂▁▁▂▁▁▂▁</td></tr></table><br/></div><div class=\"wandb-col\"><h3>Run summary:</h3><br/><table class=\"wandb\"><tr><td>accuracy</td><td>0.0</td></tr><tr><td>epoch</td><td>9</td></tr><tr><td>step</td><td>20399</td></tr><tr><td>train loss</td><td>0.13088</td></tr></table><br/></div></div>"
      ],
      "text/plain": [
       "<IPython.core.display.HTML object>"
      ]
     },
     "metadata": {},
     "output_type": "display_data"
    },
    {
     "data": {
      "text/html": [
       "Synced <strong style=\"color:#cdcd00\">denim-lake-45</strong>: <a href=\"https://wandb.ai/azatiusssss/abbyy_ocr/runs/1lzn9fqz\" target=\"_blank\">https://wandb.ai/azatiusssss/abbyy_ocr/runs/1lzn9fqz</a><br/>Synced 5 W&B file(s), 0 media file(s), 0 artifact file(s) and 0 other file(s)"
      ],
      "text/plain": [
       "<IPython.core.display.HTML object>"
      ]
     },
     "metadata": {},
     "output_type": "display_data"
    },
    {
     "data": {
      "text/html": [
       "Find logs at: <code>./wandb/run-20230423_143349-1lzn9fqz/logs</code>"
      ],
      "text/plain": [
       "<IPython.core.display.HTML object>"
      ]
     },
     "metadata": {},
     "output_type": "display_data"
    }
   ],
   "source": [
    "wandb.finish()"
   ]
  },
  {
   "cell_type": "code",
   "execution_count": 38,
   "id": "e6814f1b",
   "metadata": {},
   "outputs": [
    {
     "data": {
      "text/plain": [
       "<All keys matched successfully>"
      ]
     },
     "execution_count": 38,
     "metadata": {},
     "output_type": "execute_result"
    }
   ],
   "source": [
    "decoder_model.load_state_dict(torch.load('checkpoint_decoder_1_epoch_9.pth'))"
   ]
  },
  {
   "cell_type": "code",
   "execution_count": 21,
   "id": "ffd69772",
   "metadata": {},
   "outputs": [],
   "source": [
    "def sigmoid(x):\n",
    "    return 1/(1 + np.exp(-x))"
   ]
  },
  {
   "cell_type": "code",
   "execution_count": 22,
   "id": "8f3f9e82",
   "metadata": {},
   "outputs": [],
   "source": [
    "def find_corners(mask):\n",
    "    binary_mask = 255 * (sigmoid(mask) > 0.5).astype(np.uint8)\n",
    "    contours, hierarchy = cv2.findContours(binary_mask, cv2.RETR_TREE, cv2.CHAIN_APPROX_SIMPLE)\n",
    "    areas = list(map(cv2.contourArea, contours))\n",
    "    contour = contours[np.argmax(areas)]\n",
    "    x, y = np.array(contour)[:, 0].T\n",
    "    i_r_b = np.argmax(y + x)\n",
    "    i_l_b = np.argmax(y - x)\n",
    "    i_l_t = np.argmax(-y - x)\n",
    "    i_r_t = np.argmax(-y + x)\n",
    "    return np.array([[x[i_l_t], y[i_l_t],], \n",
    "                     [x[i_r_t], y[i_r_t],],\n",
    "                     [x[i_r_b], y[i_r_b],],\n",
    "                     [x[i_l_b], y[i_l_b],],], dtype=float)"
   ]
  },
  {
   "cell_type": "code",
   "execution_count": 23,
   "id": "279baad6",
   "metadata": {},
   "outputs": [],
   "source": [
    "def calc_checksum(labels):\n",
    "    sum_even = np.sum(labels[1::2])\n",
    "    sum_odd = np.sum(labels[::2])\n",
    "    checksum = (10 - (3 * sum_odd + sum_even) % 10) % 10\n",
    "    return checksum"
   ]
  },
  {
   "cell_type": "code",
   "execution_count": 24,
   "id": "4834cc6f",
   "metadata": {},
   "outputs": [],
   "source": [
    "from torchvision.transforms.functional import rotate"
   ]
  },
  {
   "cell_type": "code",
   "execution_count": 39,
   "id": "4574cf4b",
   "metadata": {},
   "outputs": [
    {
     "data": {
      "application/vnd.jupyter.widget-view+json": {
       "model_id": "eddeea0f72ae4c52981e91ce253ed527",
       "version_major": 2,
       "version_minor": 0
      },
      "text/plain": [
       "  0%|          | 0/100 [00:00<?, ?it/s]"
      ]
     },
     "metadata": {},
     "output_type": "display_data"
    }
   ],
   "source": [
    "resize = torchvision.transforms.Resize([200, 400])\n",
    "resize_1 = torchvision.transforms.Resize([16, 192])\n",
    "predicted_masks = []\n",
    "predicted_corners = []\n",
    "predicted_labels = []\n",
    "for image_name in tqdm(os.listdir('/DATA/asaginbaev/CourseOCRTask3/Test/Images/')):\n",
    "    image = torch.FloatTensor(cv2.imread('/DATA/asaginbaev/CourseOCRTask3/Test/Images/' + image_name)) / 255\n",
    "    image = image.permute([2, 0, 1])\n",
    "    initial_size = image.shape[1:]\n",
    "    was_rotated = False\n",
    "    if image.shape[1] > image.shape[2]:\n",
    "        was_rotated = True\n",
    "        image = torch.rot90(image, k=1, dims=[1, 2])\n",
    "        initial_size = initial_size[::-1]\n",
    "    predicted_mask = model(resize(image).unsqueeze(0).cuda()).squeeze(0)\n",
    "    predicted_mask = torchvision.transforms.Resize(initial_size)(predicted_mask)\n",
    "    if was_rotated:\n",
    "        predicted_mask = torch.rot90(predicted_mask, k=-1, dims=[1, 2])\n",
    "    predicted_masks.append(predicted_mask.cpu().detach().numpy())\n",
    "    predicted_corners.append(find_corners(predicted_masks[-1][0]))\n",
    "    image = torch.FloatTensor(cv2.imread('/DATA/asaginbaev/CourseOCRTask3/Test/Images/' + image_name)) / 255\n",
    "    \n",
    "    angle = np.arctan((predicted_corners[-1][1, 1] - predicted_corners[-1][0, 1]) / \\\n",
    "            (predicted_corners[-1][1, 0] - predicted_corners[-1][0, 0]))\n",
    "    rotated_image = rotate((image * (sigmoid(predicted_masks[-1][0]) > 0.5).reshape([*predicted_masks[-1][0].shape, \n",
    "                        1])).permute([2, 0, 1]), angle)\n",
    "    x_s = np.where(rotated_image)[1]\n",
    "    y_s = np.where(rotated_image)[2]\n",
    "    rotated_image = rotated_image[:, np.min(x_s):np.max(x_s), np.min(y_s):np.max(y_s)]\n",
    "    \n",
    "    if rotated_image.shape[1] > rotated_image.shape[2]:\n",
    "        rotated_image = torch.rot90(rotated_image, k=-1, dims=[1, 2])\n",
    "    \n",
    "    labels = decoder_model(resize_1(rotated_image).unsqueeze(0).cuda()).argmax(dim=1).cpu().detach().numpy()\n",
    "    predicted_labels.append(labels)"
   ]
  },
  {
   "cell_type": "code",
   "execution_count": 40,
   "id": "6dab78f8",
   "metadata": {},
   "outputs": [
    {
     "data": {
      "application/vnd.jupyter.widget-view+json": {
       "model_id": "1748f78d55b34639a9afc3256528c01d",
       "version_major": 2,
       "version_minor": 0
      },
      "text/plain": [
       "0it [00:00, ?it/s]"
      ]
     },
     "metadata": {},
     "output_type": "display_data"
    },
    {
     "name": "stderr",
     "output_type": "stream",
     "text": [
      "/tmp/ipykernel_721539/1209184159.py:2: FutureWarning: The frame.append method is deprecated and will be removed from pandas in a future version. Use pandas.concat instead.\n",
      "  result_df = result_df.append([[image_name,\n",
      "/tmp/ipykernel_721539/1209184159.py:2: FutureWarning: The frame.append method is deprecated and will be removed from pandas in a future version. Use pandas.concat instead.\n",
      "  result_df = result_df.append([[image_name,\n",
      "/tmp/ipykernel_721539/1209184159.py:2: FutureWarning: The frame.append method is deprecated and will be removed from pandas in a future version. Use pandas.concat instead.\n",
      "  result_df = result_df.append([[image_name,\n",
      "/tmp/ipykernel_721539/1209184159.py:2: FutureWarning: The frame.append method is deprecated and will be removed from pandas in a future version. Use pandas.concat instead.\n",
      "  result_df = result_df.append([[image_name,\n",
      "/tmp/ipykernel_721539/1209184159.py:2: FutureWarning: The frame.append method is deprecated and will be removed from pandas in a future version. Use pandas.concat instead.\n",
      "  result_df = result_df.append([[image_name,\n",
      "/tmp/ipykernel_721539/1209184159.py:2: FutureWarning: The frame.append method is deprecated and will be removed from pandas in a future version. Use pandas.concat instead.\n",
      "  result_df = result_df.append([[image_name,\n",
      "/tmp/ipykernel_721539/1209184159.py:2: FutureWarning: The frame.append method is deprecated and will be removed from pandas in a future version. Use pandas.concat instead.\n",
      "  result_df = result_df.append([[image_name,\n",
      "/tmp/ipykernel_721539/1209184159.py:2: FutureWarning: The frame.append method is deprecated and will be removed from pandas in a future version. Use pandas.concat instead.\n",
      "  result_df = result_df.append([[image_name,\n",
      "/tmp/ipykernel_721539/1209184159.py:2: FutureWarning: The frame.append method is deprecated and will be removed from pandas in a future version. Use pandas.concat instead.\n",
      "  result_df = result_df.append([[image_name,\n",
      "/tmp/ipykernel_721539/1209184159.py:2: FutureWarning: The frame.append method is deprecated and will be removed from pandas in a future version. Use pandas.concat instead.\n",
      "  result_df = result_df.append([[image_name,\n",
      "/tmp/ipykernel_721539/1209184159.py:2: FutureWarning: The frame.append method is deprecated and will be removed from pandas in a future version. Use pandas.concat instead.\n",
      "  result_df = result_df.append([[image_name,\n",
      "/tmp/ipykernel_721539/1209184159.py:2: FutureWarning: The frame.append method is deprecated and will be removed from pandas in a future version. Use pandas.concat instead.\n",
      "  result_df = result_df.append([[image_name,\n",
      "/tmp/ipykernel_721539/1209184159.py:2: FutureWarning: The frame.append method is deprecated and will be removed from pandas in a future version. Use pandas.concat instead.\n",
      "  result_df = result_df.append([[image_name,\n",
      "/tmp/ipykernel_721539/1209184159.py:2: FutureWarning: The frame.append method is deprecated and will be removed from pandas in a future version. Use pandas.concat instead.\n",
      "  result_df = result_df.append([[image_name,\n",
      "/tmp/ipykernel_721539/1209184159.py:2: FutureWarning: The frame.append method is deprecated and will be removed from pandas in a future version. Use pandas.concat instead.\n",
      "  result_df = result_df.append([[image_name,\n",
      "/tmp/ipykernel_721539/1209184159.py:2: FutureWarning: The frame.append method is deprecated and will be removed from pandas in a future version. Use pandas.concat instead.\n",
      "  result_df = result_df.append([[image_name,\n",
      "/tmp/ipykernel_721539/1209184159.py:2: FutureWarning: The frame.append method is deprecated and will be removed from pandas in a future version. Use pandas.concat instead.\n",
      "  result_df = result_df.append([[image_name,\n",
      "/tmp/ipykernel_721539/1209184159.py:2: FutureWarning: The frame.append method is deprecated and will be removed from pandas in a future version. Use pandas.concat instead.\n",
      "  result_df = result_df.append([[image_name,\n",
      "/tmp/ipykernel_721539/1209184159.py:2: FutureWarning: The frame.append method is deprecated and will be removed from pandas in a future version. Use pandas.concat instead.\n",
      "  result_df = result_df.append([[image_name,\n",
      "/tmp/ipykernel_721539/1209184159.py:2: FutureWarning: The frame.append method is deprecated and will be removed from pandas in a future version. Use pandas.concat instead.\n",
      "  result_df = result_df.append([[image_name,\n",
      "/tmp/ipykernel_721539/1209184159.py:2: FutureWarning: The frame.append method is deprecated and will be removed from pandas in a future version. Use pandas.concat instead.\n",
      "  result_df = result_df.append([[image_name,\n",
      "/tmp/ipykernel_721539/1209184159.py:2: FutureWarning: The frame.append method is deprecated and will be removed from pandas in a future version. Use pandas.concat instead.\n",
      "  result_df = result_df.append([[image_name,\n",
      "/tmp/ipykernel_721539/1209184159.py:2: FutureWarning: The frame.append method is deprecated and will be removed from pandas in a future version. Use pandas.concat instead.\n",
      "  result_df = result_df.append([[image_name,\n",
      "/tmp/ipykernel_721539/1209184159.py:2: FutureWarning: The frame.append method is deprecated and will be removed from pandas in a future version. Use pandas.concat instead.\n",
      "  result_df = result_df.append([[image_name,\n",
      "/tmp/ipykernel_721539/1209184159.py:2: FutureWarning: The frame.append method is deprecated and will be removed from pandas in a future version. Use pandas.concat instead.\n",
      "  result_df = result_df.append([[image_name,\n",
      "/tmp/ipykernel_721539/1209184159.py:2: FutureWarning: The frame.append method is deprecated and will be removed from pandas in a future version. Use pandas.concat instead.\n",
      "  result_df = result_df.append([[image_name,\n",
      "/tmp/ipykernel_721539/1209184159.py:2: FutureWarning: The frame.append method is deprecated and will be removed from pandas in a future version. Use pandas.concat instead.\n",
      "  result_df = result_df.append([[image_name,\n",
      "/tmp/ipykernel_721539/1209184159.py:2: FutureWarning: The frame.append method is deprecated and will be removed from pandas in a future version. Use pandas.concat instead.\n",
      "  result_df = result_df.append([[image_name,\n",
      "/tmp/ipykernel_721539/1209184159.py:2: FutureWarning: The frame.append method is deprecated and will be removed from pandas in a future version. Use pandas.concat instead.\n",
      "  result_df = result_df.append([[image_name,\n",
      "/tmp/ipykernel_721539/1209184159.py:2: FutureWarning: The frame.append method is deprecated and will be removed from pandas in a future version. Use pandas.concat instead.\n",
      "  result_df = result_df.append([[image_name,\n",
      "/tmp/ipykernel_721539/1209184159.py:2: FutureWarning: The frame.append method is deprecated and will be removed from pandas in a future version. Use pandas.concat instead.\n",
      "  result_df = result_df.append([[image_name,\n",
      "/tmp/ipykernel_721539/1209184159.py:2: FutureWarning: The frame.append method is deprecated and will be removed from pandas in a future version. Use pandas.concat instead.\n",
      "  result_df = result_df.append([[image_name,\n",
      "/tmp/ipykernel_721539/1209184159.py:2: FutureWarning: The frame.append method is deprecated and will be removed from pandas in a future version. Use pandas.concat instead.\n",
      "  result_df = result_df.append([[image_name,\n",
      "/tmp/ipykernel_721539/1209184159.py:2: FutureWarning: The frame.append method is deprecated and will be removed from pandas in a future version. Use pandas.concat instead.\n",
      "  result_df = result_df.append([[image_name,\n",
      "/tmp/ipykernel_721539/1209184159.py:2: FutureWarning: The frame.append method is deprecated and will be removed from pandas in a future version. Use pandas.concat instead.\n",
      "  result_df = result_df.append([[image_name,\n",
      "/tmp/ipykernel_721539/1209184159.py:2: FutureWarning: The frame.append method is deprecated and will be removed from pandas in a future version. Use pandas.concat instead.\n",
      "  result_df = result_df.append([[image_name,\n",
      "/tmp/ipykernel_721539/1209184159.py:2: FutureWarning: The frame.append method is deprecated and will be removed from pandas in a future version. Use pandas.concat instead.\n",
      "  result_df = result_df.append([[image_name,\n",
      "/tmp/ipykernel_721539/1209184159.py:2: FutureWarning: The frame.append method is deprecated and will be removed from pandas in a future version. Use pandas.concat instead.\n",
      "  result_df = result_df.append([[image_name,\n",
      "/tmp/ipykernel_721539/1209184159.py:2: FutureWarning: The frame.append method is deprecated and will be removed from pandas in a future version. Use pandas.concat instead.\n",
      "  result_df = result_df.append([[image_name,\n",
      "/tmp/ipykernel_721539/1209184159.py:2: FutureWarning: The frame.append method is deprecated and will be removed from pandas in a future version. Use pandas.concat instead.\n",
      "  result_df = result_df.append([[image_name,\n",
      "/tmp/ipykernel_721539/1209184159.py:2: FutureWarning: The frame.append method is deprecated and will be removed from pandas in a future version. Use pandas.concat instead.\n",
      "  result_df = result_df.append([[image_name,\n",
      "/tmp/ipykernel_721539/1209184159.py:2: FutureWarning: The frame.append method is deprecated and will be removed from pandas in a future version. Use pandas.concat instead.\n",
      "  result_df = result_df.append([[image_name,\n",
      "/tmp/ipykernel_721539/1209184159.py:2: FutureWarning: The frame.append method is deprecated and will be removed from pandas in a future version. Use pandas.concat instead.\n",
      "  result_df = result_df.append([[image_name,\n",
      "/tmp/ipykernel_721539/1209184159.py:2: FutureWarning: The frame.append method is deprecated and will be removed from pandas in a future version. Use pandas.concat instead.\n",
      "  result_df = result_df.append([[image_name,\n",
      "/tmp/ipykernel_721539/1209184159.py:2: FutureWarning: The frame.append method is deprecated and will be removed from pandas in a future version. Use pandas.concat instead.\n",
      "  result_df = result_df.append([[image_name,\n",
      "/tmp/ipykernel_721539/1209184159.py:2: FutureWarning: The frame.append method is deprecated and will be removed from pandas in a future version. Use pandas.concat instead.\n",
      "  result_df = result_df.append([[image_name,\n",
      "/tmp/ipykernel_721539/1209184159.py:2: FutureWarning: The frame.append method is deprecated and will be removed from pandas in a future version. Use pandas.concat instead.\n",
      "  result_df = result_df.append([[image_name,\n",
      "/tmp/ipykernel_721539/1209184159.py:2: FutureWarning: The frame.append method is deprecated and will be removed from pandas in a future version. Use pandas.concat instead.\n",
      "  result_df = result_df.append([[image_name,\n",
      "/tmp/ipykernel_721539/1209184159.py:2: FutureWarning: The frame.append method is deprecated and will be removed from pandas in a future version. Use pandas.concat instead.\n",
      "  result_df = result_df.append([[image_name,\n",
      "/tmp/ipykernel_721539/1209184159.py:2: FutureWarning: The frame.append method is deprecated and will be removed from pandas in a future version. Use pandas.concat instead.\n",
      "  result_df = result_df.append([[image_name,\n",
      "/tmp/ipykernel_721539/1209184159.py:2: FutureWarning: The frame.append method is deprecated and will be removed from pandas in a future version. Use pandas.concat instead.\n",
      "  result_df = result_df.append([[image_name,\n",
      "/tmp/ipykernel_721539/1209184159.py:2: FutureWarning: The frame.append method is deprecated and will be removed from pandas in a future version. Use pandas.concat instead.\n",
      "  result_df = result_df.append([[image_name,\n",
      "/tmp/ipykernel_721539/1209184159.py:2: FutureWarning: The frame.append method is deprecated and will be removed from pandas in a future version. Use pandas.concat instead.\n",
      "  result_df = result_df.append([[image_name,\n",
      "/tmp/ipykernel_721539/1209184159.py:2: FutureWarning: The frame.append method is deprecated and will be removed from pandas in a future version. Use pandas.concat instead.\n",
      "  result_df = result_df.append([[image_name,\n",
      "/tmp/ipykernel_721539/1209184159.py:2: FutureWarning: The frame.append method is deprecated and will be removed from pandas in a future version. Use pandas.concat instead.\n",
      "  result_df = result_df.append([[image_name,\n",
      "/tmp/ipykernel_721539/1209184159.py:2: FutureWarning: The frame.append method is deprecated and will be removed from pandas in a future version. Use pandas.concat instead.\n",
      "  result_df = result_df.append([[image_name,\n",
      "/tmp/ipykernel_721539/1209184159.py:2: FutureWarning: The frame.append method is deprecated and will be removed from pandas in a future version. Use pandas.concat instead.\n",
      "  result_df = result_df.append([[image_name,\n",
      "/tmp/ipykernel_721539/1209184159.py:2: FutureWarning: The frame.append method is deprecated and will be removed from pandas in a future version. Use pandas.concat instead.\n",
      "  result_df = result_df.append([[image_name,\n",
      "/tmp/ipykernel_721539/1209184159.py:2: FutureWarning: The frame.append method is deprecated and will be removed from pandas in a future version. Use pandas.concat instead.\n",
      "  result_df = result_df.append([[image_name,\n",
      "/tmp/ipykernel_721539/1209184159.py:2: FutureWarning: The frame.append method is deprecated and will be removed from pandas in a future version. Use pandas.concat instead.\n",
      "  result_df = result_df.append([[image_name,\n",
      "/tmp/ipykernel_721539/1209184159.py:2: FutureWarning: The frame.append method is deprecated and will be removed from pandas in a future version. Use pandas.concat instead.\n",
      "  result_df = result_df.append([[image_name,\n",
      "/tmp/ipykernel_721539/1209184159.py:2: FutureWarning: The frame.append method is deprecated and will be removed from pandas in a future version. Use pandas.concat instead.\n",
      "  result_df = result_df.append([[image_name,\n",
      "/tmp/ipykernel_721539/1209184159.py:2: FutureWarning: The frame.append method is deprecated and will be removed from pandas in a future version. Use pandas.concat instead.\n",
      "  result_df = result_df.append([[image_name,\n",
      "/tmp/ipykernel_721539/1209184159.py:2: FutureWarning: The frame.append method is deprecated and will be removed from pandas in a future version. Use pandas.concat instead.\n",
      "  result_df = result_df.append([[image_name,\n",
      "/tmp/ipykernel_721539/1209184159.py:2: FutureWarning: The frame.append method is deprecated and will be removed from pandas in a future version. Use pandas.concat instead.\n",
      "  result_df = result_df.append([[image_name,\n",
      "/tmp/ipykernel_721539/1209184159.py:2: FutureWarning: The frame.append method is deprecated and will be removed from pandas in a future version. Use pandas.concat instead.\n",
      "  result_df = result_df.append([[image_name,\n",
      "/tmp/ipykernel_721539/1209184159.py:2: FutureWarning: The frame.append method is deprecated and will be removed from pandas in a future version. Use pandas.concat instead.\n",
      "  result_df = result_df.append([[image_name,\n",
      "/tmp/ipykernel_721539/1209184159.py:2: FutureWarning: The frame.append method is deprecated and will be removed from pandas in a future version. Use pandas.concat instead.\n",
      "  result_df = result_df.append([[image_name,\n",
      "/tmp/ipykernel_721539/1209184159.py:2: FutureWarning: The frame.append method is deprecated and will be removed from pandas in a future version. Use pandas.concat instead.\n",
      "  result_df = result_df.append([[image_name,\n",
      "/tmp/ipykernel_721539/1209184159.py:2: FutureWarning: The frame.append method is deprecated and will be removed from pandas in a future version. Use pandas.concat instead.\n",
      "  result_df = result_df.append([[image_name,\n",
      "/tmp/ipykernel_721539/1209184159.py:2: FutureWarning: The frame.append method is deprecated and will be removed from pandas in a future version. Use pandas.concat instead.\n",
      "  result_df = result_df.append([[image_name,\n",
      "/tmp/ipykernel_721539/1209184159.py:2: FutureWarning: The frame.append method is deprecated and will be removed from pandas in a future version. Use pandas.concat instead.\n",
      "  result_df = result_df.append([[image_name,\n",
      "/tmp/ipykernel_721539/1209184159.py:2: FutureWarning: The frame.append method is deprecated and will be removed from pandas in a future version. Use pandas.concat instead.\n",
      "  result_df = result_df.append([[image_name,\n",
      "/tmp/ipykernel_721539/1209184159.py:2: FutureWarning: The frame.append method is deprecated and will be removed from pandas in a future version. Use pandas.concat instead.\n",
      "  result_df = result_df.append([[image_name,\n",
      "/tmp/ipykernel_721539/1209184159.py:2: FutureWarning: The frame.append method is deprecated and will be removed from pandas in a future version. Use pandas.concat instead.\n",
      "  result_df = result_df.append([[image_name,\n",
      "/tmp/ipykernel_721539/1209184159.py:2: FutureWarning: The frame.append method is deprecated and will be removed from pandas in a future version. Use pandas.concat instead.\n",
      "  result_df = result_df.append([[image_name,\n",
      "/tmp/ipykernel_721539/1209184159.py:2: FutureWarning: The frame.append method is deprecated and will be removed from pandas in a future version. Use pandas.concat instead.\n",
      "  result_df = result_df.append([[image_name,\n",
      "/tmp/ipykernel_721539/1209184159.py:2: FutureWarning: The frame.append method is deprecated and will be removed from pandas in a future version. Use pandas.concat instead.\n",
      "  result_df = result_df.append([[image_name,\n",
      "/tmp/ipykernel_721539/1209184159.py:2: FutureWarning: The frame.append method is deprecated and will be removed from pandas in a future version. Use pandas.concat instead.\n",
      "  result_df = result_df.append([[image_name,\n",
      "/tmp/ipykernel_721539/1209184159.py:2: FutureWarning: The frame.append method is deprecated and will be removed from pandas in a future version. Use pandas.concat instead.\n",
      "  result_df = result_df.append([[image_name,\n",
      "/tmp/ipykernel_721539/1209184159.py:2: FutureWarning: The frame.append method is deprecated and will be removed from pandas in a future version. Use pandas.concat instead.\n",
      "  result_df = result_df.append([[image_name,\n",
      "/tmp/ipykernel_721539/1209184159.py:2: FutureWarning: The frame.append method is deprecated and will be removed from pandas in a future version. Use pandas.concat instead.\n",
      "  result_df = result_df.append([[image_name,\n",
      "/tmp/ipykernel_721539/1209184159.py:2: FutureWarning: The frame.append method is deprecated and will be removed from pandas in a future version. Use pandas.concat instead.\n",
      "  result_df = result_df.append([[image_name,\n",
      "/tmp/ipykernel_721539/1209184159.py:2: FutureWarning: The frame.append method is deprecated and will be removed from pandas in a future version. Use pandas.concat instead.\n",
      "  result_df = result_df.append([[image_name,\n",
      "/tmp/ipykernel_721539/1209184159.py:2: FutureWarning: The frame.append method is deprecated and will be removed from pandas in a future version. Use pandas.concat instead.\n",
      "  result_df = result_df.append([[image_name,\n",
      "/tmp/ipykernel_721539/1209184159.py:2: FutureWarning: The frame.append method is deprecated and will be removed from pandas in a future version. Use pandas.concat instead.\n",
      "  result_df = result_df.append([[image_name,\n",
      "/tmp/ipykernel_721539/1209184159.py:2: FutureWarning: The frame.append method is deprecated and will be removed from pandas in a future version. Use pandas.concat instead.\n",
      "  result_df = result_df.append([[image_name,\n",
      "/tmp/ipykernel_721539/1209184159.py:2: FutureWarning: The frame.append method is deprecated and will be removed from pandas in a future version. Use pandas.concat instead.\n",
      "  result_df = result_df.append([[image_name,\n",
      "/tmp/ipykernel_721539/1209184159.py:2: FutureWarning: The frame.append method is deprecated and will be removed from pandas in a future version. Use pandas.concat instead.\n",
      "  result_df = result_df.append([[image_name,\n",
      "/tmp/ipykernel_721539/1209184159.py:2: FutureWarning: The frame.append method is deprecated and will be removed from pandas in a future version. Use pandas.concat instead.\n",
      "  result_df = result_df.append([[image_name,\n",
      "/tmp/ipykernel_721539/1209184159.py:2: FutureWarning: The frame.append method is deprecated and will be removed from pandas in a future version. Use pandas.concat instead.\n",
      "  result_df = result_df.append([[image_name,\n",
      "/tmp/ipykernel_721539/1209184159.py:2: FutureWarning: The frame.append method is deprecated and will be removed from pandas in a future version. Use pandas.concat instead.\n",
      "  result_df = result_df.append([[image_name,\n",
      "/tmp/ipykernel_721539/1209184159.py:2: FutureWarning: The frame.append method is deprecated and will be removed from pandas in a future version. Use pandas.concat instead.\n",
      "  result_df = result_df.append([[image_name,\n",
      "/tmp/ipykernel_721539/1209184159.py:2: FutureWarning: The frame.append method is deprecated and will be removed from pandas in a future version. Use pandas.concat instead.\n",
      "  result_df = result_df.append([[image_name,\n",
      "/tmp/ipykernel_721539/1209184159.py:2: FutureWarning: The frame.append method is deprecated and will be removed from pandas in a future version. Use pandas.concat instead.\n",
      "  result_df = result_df.append([[image_name,\n",
      "/tmp/ipykernel_721539/1209184159.py:2: FutureWarning: The frame.append method is deprecated and will be removed from pandas in a future version. Use pandas.concat instead.\n",
      "  result_df = result_df.append([[image_name,\n",
      "/tmp/ipykernel_721539/1209184159.py:2: FutureWarning: The frame.append method is deprecated and will be removed from pandas in a future version. Use pandas.concat instead.\n",
      "  result_df = result_df.append([[image_name,\n",
      "/tmp/ipykernel_721539/1209184159.py:2: FutureWarning: The frame.append method is deprecated and will be removed from pandas in a future version. Use pandas.concat instead.\n",
      "  result_df = result_df.append([[image_name,\n",
      "/tmp/ipykernel_721539/1209184159.py:2: FutureWarning: The frame.append method is deprecated and will be removed from pandas in a future version. Use pandas.concat instead.\n",
      "  result_df = result_df.append([[image_name,\n",
      "/tmp/ipykernel_721539/1209184159.py:2: FutureWarning: The frame.append method is deprecated and will be removed from pandas in a future version. Use pandas.concat instead.\n",
      "  result_df = result_df.append([[image_name,\n"
     ]
    }
   ],
   "source": [
    "for i, image_name in tqdm(enumerate(os.listdir('/DATA/asaginbaev/CourseOCRTask3/Test/Images/'))):\n",
    "    result_df = result_df.append([[image_name, \n",
    "        str(calc_checksum(predicted_labels[i][0])) + ''.join(list(map(str, predicted_labels[i][0]))),\n",
    "        int(predicted_corners[i][0, 0]), int(predicted_corners[i][0, 1]),\n",
    "        int(predicted_corners[i][1, 0]), int(predicted_corners[i][1, 1]),\n",
    "        int(predicted_corners[i][2, 0]), int(predicted_corners[i][2, 1]),\n",
    "        int(predicted_corners[i][3, 0]), int(predicted_corners[i][3, 1]), 0]])"
   ]
  },
  {
   "cell_type": "code",
   "execution_count": 41,
   "id": "0ea7aed1",
   "metadata": {},
   "outputs": [],
   "source": [
    "result_df.to_csv('answer.csv', encoding = \"utf-16\", header=False, index=False)"
   ]
  },
  {
   "cell_type": "code",
   "execution_count": 42,
   "id": "14bbad76",
   "metadata": {},
   "outputs": [
    {
     "name": "stdout",
     "output_type": "stream",
     "text": [
      "Checking answer (/home/asaginbaev/course_ocr/task3/answer.csv) against markup(/home/asaginbaev/course_ocr/task3/markup.csv)\n",
      "recognition_accuracy=0.43\n",
      "detection_result=0.99\n",
      "score=0.626\n"
     ]
    }
   ],
   "source": [
    "!python course_ocr_t3/evaluate.py"
   ]
  }
 ],
 "metadata": {
  "kernelspec": {
   "display_name": "Python 3 (ipykernel)",
   "language": "python",
   "name": "python3"
  },
  "language_info": {
   "codemirror_mode": {
    "name": "ipython",
    "version": 3
   },
   "file_extension": ".py",
   "mimetype": "text/x-python",
   "name": "python",
   "nbconvert_exporter": "python",
   "pygments_lexer": "ipython3",
   "version": "3.8.5"
  }
 },
 "nbformat": 4,
 "nbformat_minor": 5
}
